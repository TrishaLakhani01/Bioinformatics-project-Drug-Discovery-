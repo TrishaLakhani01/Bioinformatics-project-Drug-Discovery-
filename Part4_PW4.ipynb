{
  "cells": [
    {
      "cell_type": "markdown",
      "metadata": {
        "id": "7AAfh_j7hSwQ"
      },
      "source": [
        "# **Regression Models with Random Forest and hyperparameter tuning**"
      ]
    },
    {
      "cell_type": "markdown",
      "metadata": {
        "id": "jw7MqTMphSwR"
      },
      "source": [
        "**Import libraries**"
      ]
    },
    {
      "cell_type": "code",
      "execution_count": null,
      "metadata": {
        "id": "jdYMo1V9NzP-"
      },
      "outputs": [],
      "source": [
        "import plotly"
      ]
    },
    {
      "cell_type": "code",
      "execution_count": null,
      "metadata": {
        "id": "D3rFTNAIhSwS"
      },
      "outputs": [],
      "source": [
        "import numpy as np\n",
        "import pandas as pd\n",
        "import seaborn as sns\n",
        "from sklearn.model_selection import train_test_split"
      ]
    },
    {
      "cell_type": "markdown",
      "metadata": {
        "id": "0GvT3PArhSwX"
      },
      "source": [
        "**Load the data set**"
      ]
    },
    {
      "cell_type": "code",
      "execution_count": null,
      "metadata": {
        "id": "cSgppzqPiR0G"
      },
      "outputs": [],
      "source": [
        "df = pd.read_csv('/content/alk_06_bioactivity_data_3class_pIC50_pubchem_fp (1).csv')"
      ]
    },
    {
      "cell_type": "markdown",
      "metadata": {
        "id": "kuiiC0xthSwb"
      },
      "source": [
        "**Input features**\n",
        "\n",
        "The ***ALK*** data set contains 881 input features and 1 output variable (pIC50 values)."
      ]
    },
    {
      "cell_type": "code",
      "execution_count": null,
      "metadata": {
        "colab": {
          "base_uri": "https://localhost:8080/"
        },
        "id": "li32nAPohSwc",
        "outputId": "de30d0e7-be11-4387-ad82-0020bc714e2e",
        "scrolled": true
      },
      "outputs": [
        {
          "data": {
            "text/html": [
              "\n",
              "  <div id=\"df-f9ba7ad4-8679-4705-b00a-9ceec548aa06\">\n",
              "    <div class=\"colab-df-container\">\n",
              "      <div>\n",
              "<style scoped>\n",
              "    .dataframe tbody tr th:only-of-type {\n",
              "        vertical-align: middle;\n",
              "    }\n",
              "\n",
              "    .dataframe tbody tr th {\n",
              "        vertical-align: top;\n",
              "    }\n",
              "\n",
              "    .dataframe thead th {\n",
              "        text-align: right;\n",
              "    }\n",
              "</style>\n",
              "<table border=\"1\" class=\"dataframe\">\n",
              "  <thead>\n",
              "    <tr style=\"text-align: right;\">\n",
              "      <th></th>\n",
              "      <th>PubchemFP0</th>\n",
              "      <th>PubchemFP1</th>\n",
              "      <th>PubchemFP2</th>\n",
              "      <th>PubchemFP3</th>\n",
              "      <th>PubchemFP4</th>\n",
              "      <th>PubchemFP5</th>\n",
              "      <th>PubchemFP6</th>\n",
              "      <th>PubchemFP7</th>\n",
              "      <th>PubchemFP8</th>\n",
              "      <th>PubchemFP9</th>\n",
              "      <th>...</th>\n",
              "      <th>PubchemFP871</th>\n",
              "      <th>PubchemFP872</th>\n",
              "      <th>PubchemFP873</th>\n",
              "      <th>PubchemFP874</th>\n",
              "      <th>PubchemFP875</th>\n",
              "      <th>PubchemFP876</th>\n",
              "      <th>PubchemFP877</th>\n",
              "      <th>PubchemFP878</th>\n",
              "      <th>PubchemFP879</th>\n",
              "      <th>PubchemFP880</th>\n",
              "    </tr>\n",
              "  </thead>\n",
              "  <tbody>\n",
              "    <tr>\n",
              "      <th>0</th>\n",
              "      <td>1</td>\n",
              "      <td>1</td>\n",
              "      <td>1</td>\n",
              "      <td>0</td>\n",
              "      <td>0</td>\n",
              "      <td>0</td>\n",
              "      <td>0</td>\n",
              "      <td>0</td>\n",
              "      <td>0</td>\n",
              "      <td>1</td>\n",
              "      <td>...</td>\n",
              "      <td>0</td>\n",
              "      <td>0</td>\n",
              "      <td>0</td>\n",
              "      <td>0</td>\n",
              "      <td>0</td>\n",
              "      <td>0</td>\n",
              "      <td>0</td>\n",
              "      <td>0</td>\n",
              "      <td>0</td>\n",
              "      <td>0</td>\n",
              "    </tr>\n",
              "    <tr>\n",
              "      <th>1</th>\n",
              "      <td>1</td>\n",
              "      <td>1</td>\n",
              "      <td>1</td>\n",
              "      <td>0</td>\n",
              "      <td>0</td>\n",
              "      <td>0</td>\n",
              "      <td>0</td>\n",
              "      <td>0</td>\n",
              "      <td>0</td>\n",
              "      <td>1</td>\n",
              "      <td>...</td>\n",
              "      <td>0</td>\n",
              "      <td>0</td>\n",
              "      <td>0</td>\n",
              "      <td>0</td>\n",
              "      <td>0</td>\n",
              "      <td>0</td>\n",
              "      <td>0</td>\n",
              "      <td>0</td>\n",
              "      <td>0</td>\n",
              "      <td>0</td>\n",
              "    </tr>\n",
              "    <tr>\n",
              "      <th>2</th>\n",
              "      <td>1</td>\n",
              "      <td>1</td>\n",
              "      <td>1</td>\n",
              "      <td>0</td>\n",
              "      <td>0</td>\n",
              "      <td>0</td>\n",
              "      <td>0</td>\n",
              "      <td>0</td>\n",
              "      <td>0</td>\n",
              "      <td>1</td>\n",
              "      <td>...</td>\n",
              "      <td>0</td>\n",
              "      <td>0</td>\n",
              "      <td>0</td>\n",
              "      <td>0</td>\n",
              "      <td>0</td>\n",
              "      <td>0</td>\n",
              "      <td>0</td>\n",
              "      <td>0</td>\n",
              "      <td>0</td>\n",
              "      <td>0</td>\n",
              "    </tr>\n",
              "    <tr>\n",
              "      <th>3</th>\n",
              "      <td>1</td>\n",
              "      <td>1</td>\n",
              "      <td>1</td>\n",
              "      <td>0</td>\n",
              "      <td>0</td>\n",
              "      <td>0</td>\n",
              "      <td>0</td>\n",
              "      <td>0</td>\n",
              "      <td>0</td>\n",
              "      <td>1</td>\n",
              "      <td>...</td>\n",
              "      <td>0</td>\n",
              "      <td>0</td>\n",
              "      <td>0</td>\n",
              "      <td>0</td>\n",
              "      <td>0</td>\n",
              "      <td>0</td>\n",
              "      <td>0</td>\n",
              "      <td>0</td>\n",
              "      <td>0</td>\n",
              "      <td>0</td>\n",
              "    </tr>\n",
              "    <tr>\n",
              "      <th>4</th>\n",
              "      <td>1</td>\n",
              "      <td>1</td>\n",
              "      <td>1</td>\n",
              "      <td>0</td>\n",
              "      <td>0</td>\n",
              "      <td>0</td>\n",
              "      <td>0</td>\n",
              "      <td>0</td>\n",
              "      <td>0</td>\n",
              "      <td>1</td>\n",
              "      <td>...</td>\n",
              "      <td>0</td>\n",
              "      <td>0</td>\n",
              "      <td>0</td>\n",
              "      <td>0</td>\n",
              "      <td>0</td>\n",
              "      <td>0</td>\n",
              "      <td>0</td>\n",
              "      <td>0</td>\n",
              "      <td>0</td>\n",
              "      <td>0</td>\n",
              "    </tr>\n",
              "    <tr>\n",
              "      <th>...</th>\n",
              "      <td>...</td>\n",
              "      <td>...</td>\n",
              "      <td>...</td>\n",
              "      <td>...</td>\n",
              "      <td>...</td>\n",
              "      <td>...</td>\n",
              "      <td>...</td>\n",
              "      <td>...</td>\n",
              "      <td>...</td>\n",
              "      <td>...</td>\n",
              "      <td>...</td>\n",
              "      <td>...</td>\n",
              "      <td>...</td>\n",
              "      <td>...</td>\n",
              "      <td>...</td>\n",
              "      <td>...</td>\n",
              "      <td>...</td>\n",
              "      <td>...</td>\n",
              "      <td>...</td>\n",
              "      <td>...</td>\n",
              "      <td>...</td>\n",
              "    </tr>\n",
              "    <tr>\n",
              "      <th>1955</th>\n",
              "      <td>1</td>\n",
              "      <td>1</td>\n",
              "      <td>1</td>\n",
              "      <td>0</td>\n",
              "      <td>0</td>\n",
              "      <td>0</td>\n",
              "      <td>0</td>\n",
              "      <td>0</td>\n",
              "      <td>0</td>\n",
              "      <td>1</td>\n",
              "      <td>...</td>\n",
              "      <td>0</td>\n",
              "      <td>0</td>\n",
              "      <td>0</td>\n",
              "      <td>0</td>\n",
              "      <td>0</td>\n",
              "      <td>0</td>\n",
              "      <td>0</td>\n",
              "      <td>0</td>\n",
              "      <td>0</td>\n",
              "      <td>0</td>\n",
              "    </tr>\n",
              "    <tr>\n",
              "      <th>1956</th>\n",
              "      <td>1</td>\n",
              "      <td>1</td>\n",
              "      <td>1</td>\n",
              "      <td>0</td>\n",
              "      <td>0</td>\n",
              "      <td>0</td>\n",
              "      <td>0</td>\n",
              "      <td>0</td>\n",
              "      <td>0</td>\n",
              "      <td>1</td>\n",
              "      <td>...</td>\n",
              "      <td>0</td>\n",
              "      <td>0</td>\n",
              "      <td>0</td>\n",
              "      <td>0</td>\n",
              "      <td>0</td>\n",
              "      <td>0</td>\n",
              "      <td>0</td>\n",
              "      <td>0</td>\n",
              "      <td>0</td>\n",
              "      <td>0</td>\n",
              "    </tr>\n",
              "    <tr>\n",
              "      <th>1957</th>\n",
              "      <td>1</td>\n",
              "      <td>1</td>\n",
              "      <td>1</td>\n",
              "      <td>1</td>\n",
              "      <td>0</td>\n",
              "      <td>0</td>\n",
              "      <td>0</td>\n",
              "      <td>0</td>\n",
              "      <td>0</td>\n",
              "      <td>1</td>\n",
              "      <td>...</td>\n",
              "      <td>0</td>\n",
              "      <td>0</td>\n",
              "      <td>0</td>\n",
              "      <td>0</td>\n",
              "      <td>0</td>\n",
              "      <td>0</td>\n",
              "      <td>0</td>\n",
              "      <td>0</td>\n",
              "      <td>0</td>\n",
              "      <td>0</td>\n",
              "    </tr>\n",
              "    <tr>\n",
              "      <th>1958</th>\n",
              "      <td>1</td>\n",
              "      <td>1</td>\n",
              "      <td>1</td>\n",
              "      <td>0</td>\n",
              "      <td>0</td>\n",
              "      <td>0</td>\n",
              "      <td>0</td>\n",
              "      <td>0</td>\n",
              "      <td>0</td>\n",
              "      <td>1</td>\n",
              "      <td>...</td>\n",
              "      <td>0</td>\n",
              "      <td>0</td>\n",
              "      <td>0</td>\n",
              "      <td>0</td>\n",
              "      <td>0</td>\n",
              "      <td>0</td>\n",
              "      <td>0</td>\n",
              "      <td>0</td>\n",
              "      <td>0</td>\n",
              "      <td>0</td>\n",
              "    </tr>\n",
              "    <tr>\n",
              "      <th>1959</th>\n",
              "      <td>1</td>\n",
              "      <td>1</td>\n",
              "      <td>1</td>\n",
              "      <td>0</td>\n",
              "      <td>0</td>\n",
              "      <td>0</td>\n",
              "      <td>0</td>\n",
              "      <td>0</td>\n",
              "      <td>0</td>\n",
              "      <td>1</td>\n",
              "      <td>...</td>\n",
              "      <td>0</td>\n",
              "      <td>0</td>\n",
              "      <td>0</td>\n",
              "      <td>0</td>\n",
              "      <td>0</td>\n",
              "      <td>0</td>\n",
              "      <td>0</td>\n",
              "      <td>0</td>\n",
              "      <td>0</td>\n",
              "      <td>0</td>\n",
              "    </tr>\n",
              "  </tbody>\n",
              "</table>\n",
              "<p>1960 rows × 881 columns</p>\n",
              "</div>\n",
              "      <button class=\"colab-df-convert\" onclick=\"convertToInteractive('df-f9ba7ad4-8679-4705-b00a-9ceec548aa06')\"\n",
              "              title=\"Convert this dataframe to an interactive table.\"\n",
              "              style=\"display:none;\">\n",
              "        \n",
              "  <svg xmlns=\"http://www.w3.org/2000/svg\" height=\"24px\"viewBox=\"0 0 24 24\"\n",
              "       width=\"24px\">\n",
              "    <path d=\"M0 0h24v24H0V0z\" fill=\"none\"/>\n",
              "    <path d=\"M18.56 5.44l.94 2.06.94-2.06 2.06-.94-2.06-.94-.94-2.06-.94 2.06-2.06.94zm-11 1L8.5 8.5l.94-2.06 2.06-.94-2.06-.94L8.5 2.5l-.94 2.06-2.06.94zm10 10l.94 2.06.94-2.06 2.06-.94-2.06-.94-.94-2.06-.94 2.06-2.06.94z\"/><path d=\"M17.41 7.96l-1.37-1.37c-.4-.4-.92-.59-1.43-.59-.52 0-1.04.2-1.43.59L10.3 9.45l-7.72 7.72c-.78.78-.78 2.05 0 2.83L4 21.41c.39.39.9.59 1.41.59.51 0 1.02-.2 1.41-.59l7.78-7.78 2.81-2.81c.8-.78.8-2.07 0-2.86zM5.41 20L4 18.59l7.72-7.72 1.47 1.35L5.41 20z\"/>\n",
              "  </svg>\n",
              "      </button>\n",
              "      \n",
              "  <style>\n",
              "    .colab-df-container {\n",
              "      display:flex;\n",
              "      flex-wrap:wrap;\n",
              "      gap: 12px;\n",
              "    }\n",
              "\n",
              "    .colab-df-convert {\n",
              "      background-color: #E8F0FE;\n",
              "      border: none;\n",
              "      border-radius: 50%;\n",
              "      cursor: pointer;\n",
              "      display: none;\n",
              "      fill: #1967D2;\n",
              "      height: 32px;\n",
              "      padding: 0 0 0 0;\n",
              "      width: 32px;\n",
              "    }\n",
              "\n",
              "    .colab-df-convert:hover {\n",
              "      background-color: #E2EBFA;\n",
              "      box-shadow: 0px 1px 2px rgba(60, 64, 67, 0.3), 0px 1px 3px 1px rgba(60, 64, 67, 0.15);\n",
              "      fill: #174EA6;\n",
              "    }\n",
              "\n",
              "    [theme=dark] .colab-df-convert {\n",
              "      background-color: #3B4455;\n",
              "      fill: #D2E3FC;\n",
              "    }\n",
              "\n",
              "    [theme=dark] .colab-df-convert:hover {\n",
              "      background-color: #434B5C;\n",
              "      box-shadow: 0px 1px 3px 1px rgba(0, 0, 0, 0.15);\n",
              "      filter: drop-shadow(0px 1px 2px rgba(0, 0, 0, 0.3));\n",
              "      fill: #FFFFFF;\n",
              "    }\n",
              "  </style>\n",
              "\n",
              "      <script>\n",
              "        const buttonEl =\n",
              "          document.querySelector('#df-f9ba7ad4-8679-4705-b00a-9ceec548aa06 button.colab-df-convert');\n",
              "        buttonEl.style.display =\n",
              "          google.colab.kernel.accessAllowed ? 'block' : 'none';\n",
              "\n",
              "        async function convertToInteractive(key) {\n",
              "          const element = document.querySelector('#df-f9ba7ad4-8679-4705-b00a-9ceec548aa06');\n",
              "          const dataTable =\n",
              "            await google.colab.kernel.invokeFunction('convertToInteractive',\n",
              "                                                     [key], {});\n",
              "          if (!dataTable) return;\n",
              "\n",
              "          const docLinkHtml = 'Like what you see? Visit the ' +\n",
              "            '<a target=\"_blank\" href=https://colab.research.google.com/notebooks/data_table.ipynb>data table notebook</a>'\n",
              "            + ' to learn more about interactive tables.';\n",
              "          element.innerHTML = '';\n",
              "          dataTable['output_type'] = 'display_data';\n",
              "          await google.colab.output.renderOutput(dataTable, element);\n",
              "          const docLink = document.createElement('div');\n",
              "          docLink.innerHTML = docLinkHtml;\n",
              "          element.appendChild(docLink);\n",
              "        }\n",
              "      </script>\n",
              "    </div>\n",
              "  </div>\n",
              "  "
            ],
            "text/plain": [
              "      PubchemFP0  PubchemFP1  PubchemFP2  PubchemFP3  PubchemFP4  PubchemFP5  \\\n",
              "0              1           1           1           0           0           0   \n",
              "1              1           1           1           0           0           0   \n",
              "2              1           1           1           0           0           0   \n",
              "3              1           1           1           0           0           0   \n",
              "4              1           1           1           0           0           0   \n",
              "...          ...         ...         ...         ...         ...         ...   \n",
              "1955           1           1           1           0           0           0   \n",
              "1956           1           1           1           0           0           0   \n",
              "1957           1           1           1           1           0           0   \n",
              "1958           1           1           1           0           0           0   \n",
              "1959           1           1           1           0           0           0   \n",
              "\n",
              "      PubchemFP6  PubchemFP7  PubchemFP8  PubchemFP9  ...  PubchemFP871  \\\n",
              "0              0           0           0           1  ...             0   \n",
              "1              0           0           0           1  ...             0   \n",
              "2              0           0           0           1  ...             0   \n",
              "3              0           0           0           1  ...             0   \n",
              "4              0           0           0           1  ...             0   \n",
              "...          ...         ...         ...         ...  ...           ...   \n",
              "1955           0           0           0           1  ...             0   \n",
              "1956           0           0           0           1  ...             0   \n",
              "1957           0           0           0           1  ...             0   \n",
              "1958           0           0           0           1  ...             0   \n",
              "1959           0           0           0           1  ...             0   \n",
              "\n",
              "      PubchemFP872  PubchemFP873  PubchemFP874  PubchemFP875  PubchemFP876  \\\n",
              "0                0             0             0             0             0   \n",
              "1                0             0             0             0             0   \n",
              "2                0             0             0             0             0   \n",
              "3                0             0             0             0             0   \n",
              "4                0             0             0             0             0   \n",
              "...            ...           ...           ...           ...           ...   \n",
              "1955             0             0             0             0             0   \n",
              "1956             0             0             0             0             0   \n",
              "1957             0             0             0             0             0   \n",
              "1958             0             0             0             0             0   \n",
              "1959             0             0             0             0             0   \n",
              "\n",
              "      PubchemFP877  PubchemFP878  PubchemFP879  PubchemFP880  \n",
              "0                0             0             0             0  \n",
              "1                0             0             0             0  \n",
              "2                0             0             0             0  \n",
              "3                0             0             0             0  \n",
              "4                0             0             0             0  \n",
              "...            ...           ...           ...           ...  \n",
              "1955             0             0             0             0  \n",
              "1956             0             0             0             0  \n",
              "1957             0             0             0             0  \n",
              "1958             0             0             0             0  \n",
              "1959             0             0             0             0  \n",
              "\n",
              "[1960 rows x 881 columns]"
            ]
          },
          "execution_count": 4,
          "metadata": {},
          "output_type": "execute_result"
        }
      ],
      "source": [
        "X = df.drop('pIC50', axis=1)\n",
        "X"
      ]
    },
    {
      "cell_type": "markdown",
      "metadata": {
        "id": "sGQjCQtfhSwg"
      },
      "source": [
        "**Output features**"
      ]
    },
    {
      "cell_type": "code",
      "execution_count": null,
      "metadata": {
        "colab": {
          "base_uri": "https://localhost:8080/"
        },
        "id": "OWylAtAVhSwh",
        "outputId": "1d025fb4-9f8d-4dc6-b330-422f78a6de12"
      },
      "outputs": [
        {
          "data": {
            "text/plain": [
              "0       6.397940\n",
              "1       4.397940\n",
              "2       4.571865\n",
              "3       4.692504\n",
              "4       4.838632\n",
              "          ...   \n",
              "1955    8.552842\n",
              "1956    5.000000\n",
              "1957    6.000000\n",
              "1958    6.000000\n",
              "1959    6.000000\n",
              "Name: pIC50, Length: 1960, dtype: float64"
            ]
          },
          "execution_count": 5,
          "metadata": {},
          "output_type": "execute_result"
        }
      ],
      "source": [
        "Y = df.pIC50\n",
        "Y"
      ]
    },
    {
      "cell_type": "markdown",
      "metadata": {
        "id": "E-zGSqXohSwx"
      },
      "source": [
        "**Data dimension**"
      ]
    },
    {
      "cell_type": "code",
      "execution_count": null,
      "metadata": {
        "colab": {
          "base_uri": "https://localhost:8080/"
        },
        "id": "nhT04XtLhSwx",
        "outputId": "004925f5-3626-42c6-c704-112409fe1b25"
      },
      "outputs": [
        {
          "data": {
            "text/plain": [
              "(1960, 881)"
            ]
          },
          "execution_count": 6,
          "metadata": {},
          "output_type": "execute_result"
        }
      ],
      "source": [
        "X.shape"
      ]
    },
    {
      "cell_type": "code",
      "execution_count": null,
      "metadata": {
        "colab": {
          "base_uri": "https://localhost:8080/"
        },
        "id": "uzQlK8gNhSw0",
        "outputId": "09d9868c-4c4e-40bd-f800-3df4a442ac6a"
      },
      "outputs": [
        {
          "data": {
            "text/plain": [
              "(1960,)"
            ]
          },
          "execution_count": 7,
          "metadata": {},
          "output_type": "execute_result"
        }
      ],
      "source": [
        "Y.shape"
      ]
    },
    {
      "cell_type": "markdown",
      "metadata": {
        "id": "0qQCpX097qf_"
      },
      "source": [
        "**Removing low variance features**"
      ]
    },
    {
      "cell_type": "code",
      "execution_count": null,
      "metadata": {
        "id": "rjHK2SoI7tXI"
      },
      "outputs": [],
      "source": [
        "from sklearn.feature_selection import VarianceThreshold\n",
        "selection = VarianceThreshold(threshold=(.8 * (1 - .8)))    \n",
        "X = selection.fit_transform(X)"
      ]
    },
    {
      "cell_type": "code",
      "execution_count": null,
      "metadata": {
        "colab": {
          "base_uri": "https://localhost:8080/"
        },
        "id": "nXcpQh_s8nx7",
        "outputId": "54a96ce9-720b-40a1-9e92-c6c0ab0ab5ba"
      },
      "outputs": [
        {
          "data": {
            "text/plain": [
              "(1960, 176)"
            ]
          },
          "execution_count": 9,
          "metadata": {},
          "output_type": "execute_result"
        }
      ],
      "source": [
        "X.shape"
      ]
    },
    {
      "cell_type": "code",
      "execution_count": null,
      "metadata": {
        "colab": {
          "base_uri": "https://localhost:8080/"
        },
        "id": "rMfjfLpbsRfO",
        "outputId": "7abe6dc1-f052-4047-ab2e-cb596cbd2e18"
      },
      "outputs": [
        {
          "data": {
            "text/plain": [
              "(1960,)"
            ]
          },
          "execution_count": 10,
          "metadata": {},
          "output_type": "execute_result"
        }
      ],
      "source": [
        "Y.shape"
      ]
    },
    {
      "cell_type": "markdown",
      "metadata": {
        "id": "AjhOlkOVhSxR"
      },
      "source": [
        "**Data split into training and testing (80/20 ratio)**"
      ]
    },
    {
      "cell_type": "code",
      "execution_count": null,
      "metadata": {
        "id": "M1Bmg1HWhSxR"
      },
      "outputs": [],
      "source": [
        "X_train, X_test, Y_train, Y_test = train_test_split(X, Y, test_size=0.2, random_state=42)"
      ]
    },
    {
      "cell_type": "code",
      "execution_count": null,
      "metadata": {
        "colab": {
          "base_uri": "https://localhost:8080/"
        },
        "id": "uz1o3c1LhSxU",
        "outputId": "b4caf22b-83cf-473d-f80b-3ba577bdebf1"
      },
      "outputs": [
        {
          "data": {
            "text/plain": [
              "((1568, 176), (1568,))"
            ]
          },
          "execution_count": 12,
          "metadata": {},
          "output_type": "execute_result"
        }
      ],
      "source": [
        "X_train.shape, Y_train.shape"
      ]
    },
    {
      "cell_type": "code",
      "execution_count": null,
      "metadata": {
        "colab": {
          "base_uri": "https://localhost:8080/"
        },
        "id": "4tnwDASChSxW",
        "outputId": "7d5793f1-bfdc-4c5f-843f-b14f5d97e737"
      },
      "outputs": [
        {
          "data": {
            "text/plain": [
              "((392, 176), (392,))"
            ]
          },
          "execution_count": 13,
          "metadata": {},
          "output_type": "execute_result"
        }
      ],
      "source": [
        "X_test.shape, Y_test.shape"
      ]
    },
    {
      "cell_type": "markdown",
      "metadata": {
        "id": "PYsE-tIAhSw3"
      },
      "source": [
        "## **Building a Regression Model using Random Forest and comparing with LGBM and MLP Regressor**\n"
      ]
    },
    {
      "cell_type": "code",
      "execution_count": null,
      "metadata": {
        "id": "SsDZFy6E_X9Q"
      },
      "outputs": [],
      "source": [
        "np.random.seed(100)"
      ]
    },
    {
      "cell_type": "code",
      "execution_count": null,
      "metadata": {
        "id": "9P76nRMtByrw"
      },
      "outputs": [],
      "source": [
        "from sklearn.metrics import r2_score, mean_squared_error"
      ]
    },
    {
      "cell_type": "code",
      "execution_count": null,
      "metadata": {
        "colab": {
          "base_uri": "https://localhost:8080/"
        },
        "id": "YHM3DCD5wuNe",
        "outputId": "b8aaf944-905c-4980-b8e4-4e5b9186d8c0"
      },
      "outputs": [
        {
          "name": "stdout",
          "output_type": "stream",
          "text": [
            "R2 Score : 0.6411416264227325\n",
            "RMSE : 0.8373847362775652\n"
          ]
        }
      ],
      "source": [
        "from sklearn.ensemble import RandomForestRegressor\n",
        "model = RandomForestRegressor(n_estimators=200)\n",
        "model.fit(X_train, Y_train)\n",
        "Y_pred = model.predict(X_test)\n",
        "print('R2 Score :',r2_score(Y_test, Y_pred))\n",
        "print('RMSE :',mean_squared_error(Y_test, Y_pred, squared=False))"
      ]
    },
    {
      "cell_type": "code",
      "execution_count": null,
      "metadata": {
        "colab": {
          "base_uri": "https://localhost:8080/"
        },
        "id": "WbPQuXMvBojx",
        "outputId": "047e2fa4-4abe-46f9-9f2a-b577b4ff41b9"
      },
      "outputs": [
        {
          "name": "stdout",
          "output_type": "stream",
          "text": [
            "R2 Score : 0.6511501647663243\n",
            "RMSE : 0.8256248560284825\n"
          ]
        }
      ],
      "source": [
        "from lightgbm import LGBMRegressor\n",
        "model_0 = LGBMRegressor(n_estimators=200)\n",
        "model_0.fit(X_train, Y_train)\n",
        "Y_pred_0 = model_0.predict(X_test)\n",
        "print('R2 Score :',r2_score(Y_test, Y_pred_0))\n",
        "print('RMSE :',mean_squared_error(Y_test, Y_pred_0, squared=False))"
      ]
    },
    {
      "cell_type": "code",
      "execution_count": null,
      "metadata": {
        "colab": {
          "base_uri": "https://localhost:8080/"
        },
        "id": "dopzsbyMA6Ue",
        "outputId": "931dedde-4097-430d-c0b2-7e1bda354f73"
      },
      "outputs": [
        {
          "name": "stdout",
          "output_type": "stream",
          "text": [
            "R2 Score : 0.6171855751011667\n",
            "RMSE : 0.8648835664359507\n"
          ]
        }
      ],
      "source": [
        "from sklearn.neural_network import MLPRegressor\n",
        "model_1 = MLPRegressor(max_iter=1000)\n",
        "model_1.fit(X_train, Y_train)\n",
        "Y_pred_1 = model_1.predict(X_test)\n",
        "print('R2 Score :',r2_score(Y_test, Y_pred_1))\n",
        "print('RMSE :',mean_squared_error(Y_test, Y_pred_1, squared=False))"
      ]
    },
    {
      "cell_type": "code",
      "execution_count": null,
      "metadata": {
        "colab": {
          "base_uri": "https://localhost:8080/"
        },
        "id": "rKhOuxFQQO_Z",
        "outputId": "bb9376ae-92c9-4e4b-bd06-84f8c9b60756"
      },
      "outputs": [
        {
          "data": {
            "text/plain": [
              "(1096    9.769551\n",
              " 572     5.000000\n",
              " 450     6.587707\n",
              " 383     7.187087\n",
              " 1489    6.602060\n",
              "           ...   \n",
              " 332     5.769551\n",
              " 1330    6.240332\n",
              " 567     9.119186\n",
              " 618     8.236572\n",
              " 1406    6.000000\n",
              " Name: pIC50, Length: 392, dtype: float64,\n",
              " array([9.12012351, 6.42803389, 7.54952693, 8.05361967, 6.14225328,\n",
              "        7.85180645, 8.18968812, 7.7956049 , 7.3597356 , 7.14211114,\n",
              "        7.46719352, 8.15351274, 8.46906751, 7.42334863, 8.08289069,\n",
              "        6.9834426 , 7.61647172, 8.08838558, 6.65230952, 7.63217592,\n",
              "        7.68285552, 4.43843548, 7.40247749, 6.53432129, 7.57817487,\n",
              "        5.66256688, 7.1275469 , 6.63524275, 6.36202876, 8.28734908,\n",
              "        6.77453364, 6.07961421, 8.23909242, 8.69648128, 8.1726855 ,\n",
              "        8.62933586, 6.43998869, 6.99141215, 7.17785123, 5.26219052,\n",
              "        6.84973171, 8.12982497, 6.86108498, 6.20403545, 6.71877458,\n",
              "        8.07303432, 5.9623392 , 9.07916831, 7.89976336, 5.99375946,\n",
              "        6.69733906, 7.83427685, 6.67816901, 6.07784955, 7.99012988,\n",
              "        8.17563089, 5.89403838, 7.93114536, 5.40933634, 8.9776963 ,\n",
              "        7.82270021, 7.41863025, 8.5718165 , 6.89485381, 8.05361967,\n",
              "        6.56623699, 7.23448243, 6.22242562, 8.95325963, 8.21600727,\n",
              "        6.15312516, 8.05629061, 7.18442826, 6.23932425, 8.24288879,\n",
              "        6.46079818, 6.40623428, 6.09105418, 8.09910401, 4.42043189,\n",
              "        8.20073529, 5.06242291, 5.1114967 , 7.75451019, 8.32347622,\n",
              "        7.70829518, 5.75679593, 4.45103156, 7.69174063, 6.39003356,\n",
              "        7.73142788, 6.84648424, 8.2499154 , 8.98476931, 5.59276079,\n",
              "        6.86038355, 8.69050958, 6.38423465, 5.7616809 , 7.01166973,\n",
              "        8.06776814, 6.96950448, 5.38064795, 6.80272023, 5.53985536,\n",
              "        5.81983498, 6.40116817, 5.33938247, 6.82259433, 6.85518609,\n",
              "        8.73915475, 5.61085141, 5.28417067, 8.06814048, 8.02881052,\n",
              "        8.45986573, 8.17371467, 8.18492159, 7.55939372, 8.1608656 ,\n",
              "        7.03820738, 5.79000846, 6.47875553, 6.95636677, 6.31315905,\n",
              "        7.42334863, 8.4760712 , 6.45558466, 7.76624382, 8.27277726,\n",
              "        6.16170606, 7.45940479, 8.2196504 , 6.3163759 , 6.25398756,\n",
              "        5.72566167, 7.29856648, 5.65622292, 7.53018252, 7.74461148,\n",
              "        8.69357226, 5.25638909, 5.30785376, 7.56255696, 8.9776963 ,\n",
              "        8.28444739, 7.96651086, 6.55167844, 8.86135001, 8.03706664,\n",
              "        4.39546576, 5.82021693, 7.41107853, 9.3050677 , 7.95639933,\n",
              "        5.50868549, 6.03145148, 5.75679593, 8.12463217, 8.13116426,\n",
              "        7.67500909, 5.86618353, 6.65363332, 8.13218564, 6.33798245,\n",
              "        7.89576173, 7.96363945, 6.78013898, 6.45558466, 5.07943318,\n",
              "        7.30981857, 5.1473039 , 5.95361519, 8.09097527, 5.61631657,\n",
              "        8.65728242, 5.90633352, 7.27497996, 5.63992764, 8.27456195,\n",
              "        4.58084837, 7.452037  , 6.65437855, 5.11509324, 6.13623161,\n",
              "        8.01048816, 8.13116426, 7.85180645, 6.46971329, 6.85544211,\n",
              "        8.24022952, 8.03803102, 5.28885151, 8.40108574, 7.67500909,\n",
              "        6.1704741 , 6.37437849, 7.46286389, 8.29490827, 8.17180982,\n",
              "        6.07784955, 7.31745596, 7.73534021, 8.17611959, 8.29490827,\n",
              "        6.43998869, 6.28881292, 7.32103887, 8.48003728, 5.95514213,\n",
              "        7.73912801, 7.68267083, 8.86098548, 5.95662847, 7.85084708,\n",
              "        8.02562652, 6.7073787 , 7.90306627, 7.9126676 , 9.00369446,\n",
              "        8.62057224, 7.08491108, 5.78518519, 5.53963272, 5.56235737,\n",
              "        8.03972562, 8.14032438, 5.15341705, 7.69704612, 6.06660164,\n",
              "        7.98250012, 6.27688163, 7.34718273, 7.58738064, 8.3856891 ,\n",
              "        7.52124877, 4.52873585, 8.41297361, 6.27271185, 7.67500909,\n",
              "        6.04466606, 5.60187574, 8.24116862, 6.25920271, 5.35551682,\n",
              "        6.99646006, 7.10073351, 8.3455591 , 8.68203689, 5.93508309,\n",
              "        7.33457817, 4.45683319, 5.80794783, 6.17682892, 4.84141134,\n",
              "        7.58066302, 7.64278299, 7.66473503, 7.03407918, 6.02444198,\n",
              "        6.74186366, 7.18190363, 7.73101576, 6.78132382, 7.57725465,\n",
              "        5.18260299, 6.07649512, 6.00788388, 8.24456606, 7.99532689,\n",
              "        7.91629523, 6.43377894, 8.84515427, 7.00017229, 7.60475856,\n",
              "        6.33710748, 8.61067049, 8.48879359, 6.85539948, 7.60725442,\n",
              "        6.99646006, 7.80688463, 7.71673604, 5.2932118 , 6.41385852,\n",
              "        7.79517637, 5.87151528, 6.07938479, 6.16294846, 6.48073022,\n",
              "        8.1275299 , 6.31861832, 5.75679593, 8.29633502, 5.74693787,\n",
              "        8.32347622, 7.80344476, 8.81557315, 8.94306198, 6.06847166,\n",
              "        6.46736311, 8.19893113, 8.77053988, 7.59369943, 6.33798245,\n",
              "        8.17373364, 9.09454623, 6.04454689, 5.21259452, 4.42182518,\n",
              "        8.05653779, 7.67942351, 5.4842192 , 6.02476231, 6.16520859,\n",
              "        7.2063627 , 7.94938996, 8.46183739, 7.6524654 , 5.8594049 ,\n",
              "        8.43003859, 5.82706376, 7.3597356 , 6.16134039, 7.99973841,\n",
              "        7.97780613, 6.34000747, 6.02962277, 8.39788662, 5.8057966 ,\n",
              "        6.64878155, 6.60682653, 7.83244872, 4.40156345, 7.77758947,\n",
              "        5.36427866, 7.42850878, 8.60164244, 8.31329163, 8.15850282,\n",
              "        7.92121313, 6.88682699, 6.43463952, 7.93046685, 8.34196551,\n",
              "        8.96790974, 4.45683319, 7.08909013, 8.24708534, 5.49965668,\n",
              "        6.71888424, 8.00191104, 6.74590956, 7.94362388, 7.51654505,\n",
              "        6.86108498, 6.40116817, 8.20712695, 5.35551682, 8.96790974,\n",
              "        5.93795748, 8.73915475, 8.53508659, 5.89484925, 6.85255946,\n",
              "        6.54608969, 8.60857902, 7.45753124, 8.011983  , 6.10937902,\n",
              "        8.50242371, 7.62265931, 6.40389732, 7.19326566, 8.33366925,\n",
              "        5.87866342, 7.63358385, 7.49701977, 8.02814329, 7.97732355,\n",
              "        6.54133712, 6.81059182, 7.15550567, 5.9096809 , 7.0501272 ,\n",
              "        5.59276079, 7.18057286, 6.14025787, 7.29856648, 8.97259951,\n",
              "        8.05653779, 7.44002691]))"
            ]
          },
          "execution_count": 19,
          "metadata": {},
          "output_type": "execute_result"
        }
      ],
      "source": [
        "Y_test, Y_pred"
      ]
    },
    {
      "cell_type": "code",
      "execution_count": null,
      "metadata": {
        "colab": {
          "base_uri": "https://localhost:8080/",
          "height": 424
        },
        "id": "FTDBQkFItV3Q",
        "outputId": "853d76b5-c039-4016-f2bb-a46c222da3c5"
      },
      "outputs": [
        {
          "data": {
            "text/html": [
              "\n",
              "  <div id=\"df-3d602b37-d657-4a5e-8c5f-d310854a339c\">\n",
              "    <div class=\"colab-df-container\">\n",
              "      <div>\n",
              "<style scoped>\n",
              "    .dataframe tbody tr th:only-of-type {\n",
              "        vertical-align: middle;\n",
              "    }\n",
              "\n",
              "    .dataframe tbody tr th {\n",
              "        vertical-align: top;\n",
              "    }\n",
              "\n",
              "    .dataframe thead th {\n",
              "        text-align: right;\n",
              "    }\n",
              "</style>\n",
              "<table border=\"1\" class=\"dataframe\">\n",
              "  <thead>\n",
              "    <tr style=\"text-align: right;\">\n",
              "      <th></th>\n",
              "      <th>Actuals</th>\n",
              "      <th>Predictions</th>\n",
              "    </tr>\n",
              "  </thead>\n",
              "  <tbody>\n",
              "    <tr>\n",
              "      <th>23</th>\n",
              "      <td>9.301030</td>\n",
              "      <td>8.657282</td>\n",
              "    </tr>\n",
              "    <tr>\n",
              "      <th>29</th>\n",
              "      <td>5.080922</td>\n",
              "      <td>5.380648</td>\n",
              "    </tr>\n",
              "    <tr>\n",
              "      <th>30</th>\n",
              "      <td>5.031517</td>\n",
              "      <td>5.293212</td>\n",
              "    </tr>\n",
              "    <tr>\n",
              "      <th>32</th>\n",
              "      <td>4.744727</td>\n",
              "      <td>5.153417</td>\n",
              "    </tr>\n",
              "    <tr>\n",
              "      <th>44</th>\n",
              "      <td>4.301030</td>\n",
              "      <td>5.746938</td>\n",
              "    </tr>\n",
              "    <tr>\n",
              "      <th>...</th>\n",
              "      <td>...</td>\n",
              "      <td>...</td>\n",
              "    </tr>\n",
              "    <tr>\n",
              "      <th>1937</th>\n",
              "      <td>5.337242</td>\n",
              "      <td>5.409336</td>\n",
              "    </tr>\n",
              "    <tr>\n",
              "      <th>1946</th>\n",
              "      <td>5.267606</td>\n",
              "      <td>5.756796</td>\n",
              "    </tr>\n",
              "    <tr>\n",
              "      <th>1947</th>\n",
              "      <td>5.443697</td>\n",
              "      <td>5.756796</td>\n",
              "    </tr>\n",
              "    <tr>\n",
              "      <th>1950</th>\n",
              "      <td>5.408935</td>\n",
              "      <td>5.756796</td>\n",
              "    </tr>\n",
              "    <tr>\n",
              "      <th>1951</th>\n",
              "      <td>5.086186</td>\n",
              "      <td>7.682671</td>\n",
              "    </tr>\n",
              "  </tbody>\n",
              "</table>\n",
              "<p>392 rows × 2 columns</p>\n",
              "</div>\n",
              "      <button class=\"colab-df-convert\" onclick=\"convertToInteractive('df-3d602b37-d657-4a5e-8c5f-d310854a339c')\"\n",
              "              title=\"Convert this dataframe to an interactive table.\"\n",
              "              style=\"display:none;\">\n",
              "        \n",
              "  <svg xmlns=\"http://www.w3.org/2000/svg\" height=\"24px\"viewBox=\"0 0 24 24\"\n",
              "       width=\"24px\">\n",
              "    <path d=\"M0 0h24v24H0V0z\" fill=\"none\"/>\n",
              "    <path d=\"M18.56 5.44l.94 2.06.94-2.06 2.06-.94-2.06-.94-.94-2.06-.94 2.06-2.06.94zm-11 1L8.5 8.5l.94-2.06 2.06-.94-2.06-.94L8.5 2.5l-.94 2.06-2.06.94zm10 10l.94 2.06.94-2.06 2.06-.94-2.06-.94-.94-2.06-.94 2.06-2.06.94z\"/><path d=\"M17.41 7.96l-1.37-1.37c-.4-.4-.92-.59-1.43-.59-.52 0-1.04.2-1.43.59L10.3 9.45l-7.72 7.72c-.78.78-.78 2.05 0 2.83L4 21.41c.39.39.9.59 1.41.59.51 0 1.02-.2 1.41-.59l7.78-7.78 2.81-2.81c.8-.78.8-2.07 0-2.86zM5.41 20L4 18.59l7.72-7.72 1.47 1.35L5.41 20z\"/>\n",
              "  </svg>\n",
              "      </button>\n",
              "      \n",
              "  <style>\n",
              "    .colab-df-container {\n",
              "      display:flex;\n",
              "      flex-wrap:wrap;\n",
              "      gap: 12px;\n",
              "    }\n",
              "\n",
              "    .colab-df-convert {\n",
              "      background-color: #E8F0FE;\n",
              "      border: none;\n",
              "      border-radius: 50%;\n",
              "      cursor: pointer;\n",
              "      display: none;\n",
              "      fill: #1967D2;\n",
              "      height: 32px;\n",
              "      padding: 0 0 0 0;\n",
              "      width: 32px;\n",
              "    }\n",
              "\n",
              "    .colab-df-convert:hover {\n",
              "      background-color: #E2EBFA;\n",
              "      box-shadow: 0px 1px 2px rgba(60, 64, 67, 0.3), 0px 1px 3px 1px rgba(60, 64, 67, 0.15);\n",
              "      fill: #174EA6;\n",
              "    }\n",
              "\n",
              "    [theme=dark] .colab-df-convert {\n",
              "      background-color: #3B4455;\n",
              "      fill: #D2E3FC;\n",
              "    }\n",
              "\n",
              "    [theme=dark] .colab-df-convert:hover {\n",
              "      background-color: #434B5C;\n",
              "      box-shadow: 0px 1px 3px 1px rgba(0, 0, 0, 0.15);\n",
              "      filter: drop-shadow(0px 1px 2px rgba(0, 0, 0, 0.3));\n",
              "      fill: #FFFFFF;\n",
              "    }\n",
              "  </style>\n",
              "\n",
              "      <script>\n",
              "        const buttonEl =\n",
              "          document.querySelector('#df-3d602b37-d657-4a5e-8c5f-d310854a339c button.colab-df-convert');\n",
              "        buttonEl.style.display =\n",
              "          google.colab.kernel.accessAllowed ? 'block' : 'none';\n",
              "\n",
              "        async function convertToInteractive(key) {\n",
              "          const element = document.querySelector('#df-3d602b37-d657-4a5e-8c5f-d310854a339c');\n",
              "          const dataTable =\n",
              "            await google.colab.kernel.invokeFunction('convertToInteractive',\n",
              "                                                     [key], {});\n",
              "          if (!dataTable) return;\n",
              "\n",
              "          const docLinkHtml = 'Like what you see? Visit the ' +\n",
              "            '<a target=\"_blank\" href=https://colab.research.google.com/notebooks/data_table.ipynb>data table notebook</a>'\n",
              "            + ' to learn more about interactive tables.';\n",
              "          element.innerHTML = '';\n",
              "          dataTable['output_type'] = 'display_data';\n",
              "          await google.colab.output.renderOutput(dataTable, element);\n",
              "          const docLink = document.createElement('div');\n",
              "          docLink.innerHTML = docLinkHtml;\n",
              "          element.appendChild(docLink);\n",
              "        }\n",
              "      </script>\n",
              "    </div>\n",
              "  </div>\n",
              "  "
            ],
            "text/plain": [
              "       Actuals  Predictions\n",
              "23    9.301030     8.657282\n",
              "29    5.080922     5.380648\n",
              "30    5.031517     5.293212\n",
              "32    4.744727     5.153417\n",
              "44    4.301030     5.746938\n",
              "...        ...          ...\n",
              "1937  5.337242     5.409336\n",
              "1946  5.267606     5.756796\n",
              "1947  5.443697     5.756796\n",
              "1950  5.408935     5.756796\n",
              "1951  5.086186     7.682671\n",
              "\n",
              "[392 rows x 2 columns]"
            ]
          },
          "execution_count": 20,
          "metadata": {},
          "output_type": "execute_result"
        }
      ],
      "source": [
        "pd.DataFrame(data={'Actuals': Y_test, 'Predictions': Y_pred}).sort_index()"
      ]
    },
    {
      "cell_type": "code",
      "execution_count": null,
      "metadata": {
        "colab": {
          "base_uri": "https://localhost:8080/",
          "height": 416
        },
        "id": "Jm6S0OharwY-",
        "outputId": "cdba3213-8590-42de-b9b2-fc6b715002ca"
      },
      "outputs": [
        {
          "name": "stderr",
          "output_type": "stream",
          "text": [
            "/usr/local/lib/python3.7/dist-packages/seaborn/_decorators.py:43: FutureWarning: Pass the following variables as keyword args: x, y. From version 0.12, the only valid positional argument will be `data`, and passing other arguments without an explicit keyword will result in an error or misinterpretation.\n",
            "  FutureWarning\n"
          ]
        },
        {
          "data": {
            "text/plain": [
              "<function matplotlib.pyplot.show>"
            ]
          },
          "execution_count": 21,
          "metadata": {},
          "output_type": "execute_result"
        },
        {
          "data": {
            "image/png": "[encoded data removed]",
            "text/plain": [
              "<Figure size 360x360 with 1 Axes>"
            ]
          },
          "metadata": {},
          "output_type": "display_data"
        }
      ],
      "source": [
        "import seaborn as sns\n",
        "import matplotlib.pyplot as plt\n",
        "\n",
        "sns.set(color_codes=True)\n",
        "sns.set_style(\"white\")\n",
        "\n",
        "ax = sns.regplot(Y_test, Y_pred, scatter_kws={'alpha':0.4})\n",
        "ax.set_xlabel('Experimental pIC50', fontsize='large', fontweight='bold')\n",
        "ax.set_ylabel('Predicted pIC50', fontsize='large', fontweight='bold')\n",
        "ax.set_xlim(0, 12)\n",
        "ax.set_ylim(0, 12)\n",
        "ax.figure.set_size_inches(5, 5)\n",
        "plt.show"
      ]
    },
    {
      "cell_type": "markdown",
      "metadata": {
        "id": "LoLgjePyUXcv"
      },
      "source": [
        "## **Hyperparameter Tuning**"
      ]
    },
    {
      "cell_type": "code",
      "execution_count": null,
      "metadata": {
        "id": "hfqpfjxw3IAK"
      },
      "outputs": [],
      "source": [
        "from sklearn.model_selection import GridSearchCV\n",
        "import numpy as np\n",
        "\n",
        "max_features_range = np.arange(10,110,10)\n",
        "n_estimators_range = np.arange(10,310,10)\n",
        "param_grid = dict(max_features=max_features_range, n_estimators=n_estimators_range)\n",
        "\n",
        "rf = RandomForestRegressor()\n",
        "\n",
        "grid = GridSearchCV(estimator=rf, param_grid=param_grid, cv=5)"
      ]
    },
    {
      "cell_type": "code",
      "execution_count": null,
      "metadata": {
        "colab": {
          "background_save": true
        },
        "id": "pS9uG2J0Kipv",
        "outputId": "ee5c9b8d-9753-4d74-dafb-cb0123d4917c"
      },
      "outputs": [
        {
          "data": {
            "text/plain": [
              "GridSearchCV(cv=5, estimator=RandomForestRegressor(),\n",
              "             param_grid={'max_features': array([ 10,  20,  30,  40,  50,  60,  70,  80,  90, 100]),\n",
              "                         'n_estimators': array([ 10,  20,  30,  40,  50,  60,  70,  80,  90, 100, 110, 120, 130,\n",
              "       140, 150, 160, 170, 180, 190, 200, 210, 220, 230, 240, 250, 260,\n",
              "       270, 280, 290, 300])})"
            ]
          },
          "execution_count": null,
          "metadata": {},
          "output_type": "execute_result"
        }
      ],
      "source": [
        "grid.fit(X_train, Y_train)"
      ]
    },
    {
      "cell_type": "code",
      "execution_count": null,
      "metadata": {
        "colab": {
          "base_uri": "https://localhost:8080/"
        },
        "id": "pJG3P5zHQ0xb",
        "outputId": "c67697b1-6800-4cbc-db5b-e77536eb6ade"
      },
      "outputs": [
        {
          "name": "stdout",
          "output_type": "stream",
          "text": [
            "The best parameters are {'max_features': 40, 'n_estimators': 220} with a score of 0.62\n"
          ]
        }
      ],
      "source": [
        "print(\"The best parameters are %s with a score of %0.2f\"\n",
        "      % (grid.best_params_, grid.best_score_))"
      ]
    },
    {
      "cell_type": "markdown",
      "metadata": {
        "id": "p98hoS9GCjl2"
      },
      "source": [
        "# **Dataframe of Grid search parameters and their Accuracy scores**\n",
        "\n",
        "Exporting the grid search parameters and their resulting accuracy scores into a dataframe"
      ]
    },
    {
      "cell_type": "code",
      "execution_count": null,
      "metadata": {
        "colab": {
          "base_uri": "https://localhost:8080/",
          "height": 206
        },
        "id": "FePD6zucRCmj",
        "outputId": "e3fd7e6e-53db-4926-a932-27c9f0874bd0"
      },
      "outputs": [
        {
          "data": {
            "text/html": [
              "\n",
              "  <div id=\"df-b57f9e13-0ea0-4ef0-9ed0-e546c45faa56\">\n",
              "    <div class=\"colab-df-container\">\n",
              "      <div>\n",
              "<style scoped>\n",
              "    .dataframe tbody tr th:only-of-type {\n",
              "        vertical-align: middle;\n",
              "    }\n",
              "\n",
              "    .dataframe tbody tr th {\n",
              "        vertical-align: top;\n",
              "    }\n",
              "\n",
              "    .dataframe thead th {\n",
              "        text-align: right;\n",
              "    }\n",
              "</style>\n",
              "<table border=\"1\" class=\"dataframe\">\n",
              "  <thead>\n",
              "    <tr style=\"text-align: right;\">\n",
              "      <th></th>\n",
              "      <th>max_features</th>\n",
              "      <th>n_estimators</th>\n",
              "      <th>Accuracy</th>\n",
              "    </tr>\n",
              "  </thead>\n",
              "  <tbody>\n",
              "    <tr>\n",
              "      <th>0</th>\n",
              "      <td>10</td>\n",
              "      <td>10</td>\n",
              "      <td>0.568542</td>\n",
              "    </tr>\n",
              "    <tr>\n",
              "      <th>1</th>\n",
              "      <td>10</td>\n",
              "      <td>20</td>\n",
              "      <td>0.590611</td>\n",
              "    </tr>\n",
              "    <tr>\n",
              "      <th>2</th>\n",
              "      <td>10</td>\n",
              "      <td>30</td>\n",
              "      <td>0.595100</td>\n",
              "    </tr>\n",
              "    <tr>\n",
              "      <th>3</th>\n",
              "      <td>10</td>\n",
              "      <td>40</td>\n",
              "      <td>0.605461</td>\n",
              "    </tr>\n",
              "    <tr>\n",
              "      <th>4</th>\n",
              "      <td>10</td>\n",
              "      <td>50</td>\n",
              "      <td>0.608527</td>\n",
              "    </tr>\n",
              "  </tbody>\n",
              "</table>\n",
              "</div>\n",
              "      <button class=\"colab-df-convert\" onclick=\"convertToInteractive('df-b57f9e13-0ea0-4ef0-9ed0-e546c45faa56')\"\n",
              "              title=\"Convert this dataframe to an interactive table.\"\n",
              "              style=\"display:none;\">\n",
              "        \n",
              "  <svg xmlns=\"http://www.w3.org/2000/svg\" height=\"24px\"viewBox=\"0 0 24 24\"\n",
              "       width=\"24px\">\n",
              "    <path d=\"M0 0h24v24H0V0z\" fill=\"none\"/>\n",
              "    <path d=\"M18.56 5.44l.94 2.06.94-2.06 2.06-.94-2.06-.94-.94-2.06-.94 2.06-2.06.94zm-11 1L8.5 8.5l.94-2.06 2.06-.94-2.06-.94L8.5 2.5l-.94 2.06-2.06.94zm10 10l.94 2.06.94-2.06 2.06-.94-2.06-.94-.94-2.06-.94 2.06-2.06.94z\"/><path d=\"M17.41 7.96l-1.37-1.37c-.4-.4-.92-.59-1.43-.59-.52 0-1.04.2-1.43.59L10.3 9.45l-7.72 7.72c-.78.78-.78 2.05 0 2.83L4 21.41c.39.39.9.59 1.41.59.51 0 1.02-.2 1.41-.59l7.78-7.78 2.81-2.81c.8-.78.8-2.07 0-2.86zM5.41 20L4 18.59l7.72-7.72 1.47 1.35L5.41 20z\"/>\n",
              "  </svg>\n",
              "      </button>\n",
              "      \n",
              "  <style>\n",
              "    .colab-df-container {\n",
              "      display:flex;\n",
              "      flex-wrap:wrap;\n",
              "      gap: 12px;\n",
              "    }\n",
              "\n",
              "    .colab-df-convert {\n",
              "      background-color: #E8F0FE;\n",
              "      border: none;\n",
              "      border-radius: 50%;\n",
              "      cursor: pointer;\n",
              "      display: none;\n",
              "      fill: #1967D2;\n",
              "      height: 32px;\n",
              "      padding: 0 0 0 0;\n",
              "      width: 32px;\n",
              "    }\n",
              "\n",
              "    .colab-df-convert:hover {\n",
              "      background-color: #E2EBFA;\n",
              "      box-shadow: 0px 1px 2px rgba(60, 64, 67, 0.3), 0px 1px 3px 1px rgba(60, 64, 67, 0.15);\n",
              "      fill: #174EA6;\n",
              "    }\n",
              "\n",
              "    [theme=dark] .colab-df-convert {\n",
              "      background-color: #3B4455;\n",
              "      fill: #D2E3FC;\n",
              "    }\n",
              "\n",
              "    [theme=dark] .colab-df-convert:hover {\n",
              "      background-color: #434B5C;\n",
              "      box-shadow: 0px 1px 3px 1px rgba(0, 0, 0, 0.15);\n",
              "      filter: drop-shadow(0px 1px 2px rgba(0, 0, 0, 0.3));\n",
              "      fill: #FFFFFF;\n",
              "    }\n",
              "  </style>\n",
              "\n",
              "      <script>\n",
              "        const buttonEl =\n",
              "          document.querySelector('#df-b57f9e13-0ea0-4ef0-9ed0-e546c45faa56 button.colab-df-convert');\n",
              "        buttonEl.style.display =\n",
              "          google.colab.kernel.accessAllowed ? 'block' : 'none';\n",
              "\n",
              "        async function convertToInteractive(key) {\n",
              "          const element = document.querySelector('#df-b57f9e13-0ea0-4ef0-9ed0-e546c45faa56');\n",
              "          const dataTable =\n",
              "            await google.colab.kernel.invokeFunction('convertToInteractive',\n",
              "                                                     [key], {});\n",
              "          if (!dataTable) return;\n",
              "\n",
              "          const docLinkHtml = 'Like what you see? Visit the ' +\n",
              "            '<a target=\"_blank\" href=https://colab.research.google.com/notebooks/data_table.ipynb>data table notebook</a>'\n",
              "            + ' to learn more about interactive tables.';\n",
              "          element.innerHTML = '';\n",
              "          dataTable['output_type'] = 'display_data';\n",
              "          await google.colab.output.renderOutput(dataTable, element);\n",
              "          const docLink = document.createElement('div');\n",
              "          docLink.innerHTML = docLinkHtml;\n",
              "          element.appendChild(docLink);\n",
              "        }\n",
              "      </script>\n",
              "    </div>\n",
              "  </div>\n",
              "  "
            ],
            "text/plain": [
              "   max_features  n_estimators  Accuracy\n",
              "0            10            10  0.568542\n",
              "1            10            20  0.590611\n",
              "2            10            30  0.595100\n",
              "3            10            40  0.605461\n",
              "4            10            50  0.608527"
            ]
          },
          "execution_count": 129,
          "metadata": {},
          "output_type": "execute_result"
        }
      ],
      "source": [
        "grid_results = pd.concat([pd.DataFrame(grid.cv_results_[\"params\"]),pd.DataFrame(grid.cv_results_[\"mean_test_score\"], columns=[\"Accuracy\"])],axis=1)\n",
        "grid_results.head()"
      ]
    },
    {
      "cell_type": "markdown",
      "metadata": {
        "id": "6s-R4ekaCC6-"
      },
      "source": [
        "**Preparing data for making contour plots**\n",
        "\n",
        "Reshaping the data into a compatible format that will be recognized by the contour plot functions prior to plotting\n",
        "\n",
        "i. Pandas' **groupby()** function to segment the data into groups based on the 2 hyperparameters: **max_features** and **n_estimators**."
      ]
    },
    {
      "cell_type": "code",
      "execution_count": null,
      "metadata": {
        "colab": {
          "base_uri": "https://localhost:8080/",
          "height": 455
        },
        "id": "cnYxRQP0RMHK",
        "outputId": "9a8b991d-73d9-4cc4-f17e-822d1b6e2892"
      },
      "outputs": [
        {
          "data": {
            "text/html": [
              "\n",
              "  <div id=\"df-dfd2727a-515f-480f-aed2-9a142a84adf5\">\n",
              "    <div class=\"colab-df-container\">\n",
              "      <div>\n",
              "<style scoped>\n",
              "    .dataframe tbody tr th:only-of-type {\n",
              "        vertical-align: middle;\n",
              "    }\n",
              "\n",
              "    .dataframe tbody tr th {\n",
              "        vertical-align: top;\n",
              "    }\n",
              "\n",
              "    .dataframe thead th {\n",
              "        text-align: right;\n",
              "    }\n",
              "</style>\n",
              "<table border=\"1\" class=\"dataframe\">\n",
              "  <thead>\n",
              "    <tr style=\"text-align: right;\">\n",
              "      <th></th>\n",
              "      <th></th>\n",
              "      <th>Accuracy</th>\n",
              "    </tr>\n",
              "    <tr>\n",
              "      <th>max_features</th>\n",
              "      <th>n_estimators</th>\n",
              "      <th></th>\n",
              "    </tr>\n",
              "  </thead>\n",
              "  <tbody>\n",
              "    <tr>\n",
              "      <th rowspan=\"5\" valign=\"top\">10</th>\n",
              "      <th>10</th>\n",
              "      <td>0.568542</td>\n",
              "    </tr>\n",
              "    <tr>\n",
              "      <th>20</th>\n",
              "      <td>0.590611</td>\n",
              "    </tr>\n",
              "    <tr>\n",
              "      <th>30</th>\n",
              "      <td>0.595100</td>\n",
              "    </tr>\n",
              "    <tr>\n",
              "      <th>40</th>\n",
              "      <td>0.605461</td>\n",
              "    </tr>\n",
              "    <tr>\n",
              "      <th>50</th>\n",
              "      <td>0.608527</td>\n",
              "    </tr>\n",
              "    <tr>\n",
              "      <th>...</th>\n",
              "      <th>...</th>\n",
              "      <td>...</td>\n",
              "    </tr>\n",
              "    <tr>\n",
              "      <th rowspan=\"5\" valign=\"top\">100</th>\n",
              "      <th>260</th>\n",
              "      <td>0.609158</td>\n",
              "    </tr>\n",
              "    <tr>\n",
              "      <th>270</th>\n",
              "      <td>0.610000</td>\n",
              "    </tr>\n",
              "    <tr>\n",
              "      <th>280</th>\n",
              "      <td>0.608049</td>\n",
              "    </tr>\n",
              "    <tr>\n",
              "      <th>290</th>\n",
              "      <td>0.610168</td>\n",
              "    </tr>\n",
              "    <tr>\n",
              "      <th>300</th>\n",
              "      <td>0.610583</td>\n",
              "    </tr>\n",
              "  </tbody>\n",
              "</table>\n",
              "<p>300 rows × 1 columns</p>\n",
              "</div>\n",
              "      <button class=\"colab-df-convert\" onclick=\"convertToInteractive('df-dfd2727a-515f-480f-aed2-9a142a84adf5')\"\n",
              "              title=\"Convert this dataframe to an interactive table.\"\n",
              "              style=\"display:none;\">\n",
              "        \n",
              "  <svg xmlns=\"http://www.w3.org/2000/svg\" height=\"24px\"viewBox=\"0 0 24 24\"\n",
              "       width=\"24px\">\n",
              "    <path d=\"M0 0h24v24H0V0z\" fill=\"none\"/>\n",
              "    <path d=\"M18.56 5.44l.94 2.06.94-2.06 2.06-.94-2.06-.94-.94-2.06-.94 2.06-2.06.94zm-11 1L8.5 8.5l.94-2.06 2.06-.94-2.06-.94L8.5 2.5l-.94 2.06-2.06.94zm10 10l.94 2.06.94-2.06 2.06-.94-2.06-.94-.94-2.06-.94 2.06-2.06.94z\"/><path d=\"M17.41 7.96l-1.37-1.37c-.4-.4-.92-.59-1.43-.59-.52 0-1.04.2-1.43.59L10.3 9.45l-7.72 7.72c-.78.78-.78 2.05 0 2.83L4 21.41c.39.39.9.59 1.41.59.51 0 1.02-.2 1.41-.59l7.78-7.78 2.81-2.81c.8-.78.8-2.07 0-2.86zM5.41 20L4 18.59l7.72-7.72 1.47 1.35L5.41 20z\"/>\n",
              "  </svg>\n",
              "      </button>\n",
              "      \n",
              "  <style>\n",
              "    .colab-df-container {\n",
              "      display:flex;\n",
              "      flex-wrap:wrap;\n",
              "      gap: 12px;\n",
              "    }\n",
              "\n",
              "    .colab-df-convert {\n",
              "      background-color: #E8F0FE;\n",
              "      border: none;\n",
              "      border-radius: 50%;\n",
              "      cursor: pointer;\n",
              "      display: none;\n",
              "      fill: #1967D2;\n",
              "      height: 32px;\n",
              "      padding: 0 0 0 0;\n",
              "      width: 32px;\n",
              "    }\n",
              "\n",
              "    .colab-df-convert:hover {\n",
              "      background-color: #E2EBFA;\n",
              "      box-shadow: 0px 1px 2px rgba(60, 64, 67, 0.3), 0px 1px 3px 1px rgba(60, 64, 67, 0.15);\n",
              "      fill: #174EA6;\n",
              "    }\n",
              "\n",
              "    [theme=dark] .colab-df-convert {\n",
              "      background-color: #3B4455;\n",
              "      fill: #D2E3FC;\n",
              "    }\n",
              "\n",
              "    [theme=dark] .colab-df-convert:hover {\n",
              "      background-color: #434B5C;\n",
              "      box-shadow: 0px 1px 3px 1px rgba(0, 0, 0, 0.15);\n",
              "      filter: drop-shadow(0px 1px 2px rgba(0, 0, 0, 0.3));\n",
              "      fill: #FFFFFF;\n",
              "    }\n",
              "  </style>\n",
              "\n",
              "      <script>\n",
              "        const buttonEl =\n",
              "          document.querySelector('#df-dfd2727a-515f-480f-aed2-9a142a84adf5 button.colab-df-convert');\n",
              "        buttonEl.style.display =\n",
              "          google.colab.kernel.accessAllowed ? 'block' : 'none';\n",
              "\n",
              "        async function convertToInteractive(key) {\n",
              "          const element = document.querySelector('#df-dfd2727a-515f-480f-aed2-9a142a84adf5');\n",
              "          const dataTable =\n",
              "            await google.colab.kernel.invokeFunction('convertToInteractive',\n",
              "                                                     [key], {});\n",
              "          if (!dataTable) return;\n",
              "\n",
              "          const docLinkHtml = 'Like what you see? Visit the ' +\n",
              "            '<a target=\"_blank\" href=https://colab.research.google.com/notebooks/data_table.ipynb>data table notebook</a>'\n",
              "            + ' to learn more about interactive tables.';\n",
              "          element.innerHTML = '';\n",
              "          dataTable['output_type'] = 'display_data';\n",
              "          await google.colab.output.renderOutput(dataTable, element);\n",
              "          const docLink = document.createElement('div');\n",
              "          docLink.innerHTML = docLinkHtml;\n",
              "          element.appendChild(docLink);\n",
              "        }\n",
              "      </script>\n",
              "    </div>\n",
              "  </div>\n",
              "  "
            ],
            "text/plain": [
              "                           Accuracy\n",
              "max_features n_estimators          \n",
              "10           10            0.568542\n",
              "             20            0.590611\n",
              "             30            0.595100\n",
              "             40            0.605461\n",
              "             50            0.608527\n",
              "...                             ...\n",
              "100          260           0.609158\n",
              "             270           0.610000\n",
              "             280           0.608049\n",
              "             290           0.610168\n",
              "             300           0.610583\n",
              "\n",
              "[300 rows x 1 columns]"
            ]
          },
          "execution_count": 130,
          "metadata": {},
          "output_type": "execute_result"
        }
      ],
      "source": [
        "grid_contour = grid_results.groupby(['max_features','n_estimators']).mean()\n",
        "grid_contour"
      ]
    },
    {
      "cell_type": "markdown",
      "metadata": {
        "id": "FxGvc5lvEH7U"
      },
      "source": [
        "**Pivoting the data**\n",
        "\n",
        "Data is reshaped by pivoting the data into an m by n matrix where rows and columns correspond to the **max_features** and **n_estimators**, respectively."
      ]
    },
    {
      "cell_type": "code",
      "execution_count": null,
      "metadata": {
        "colab": {
          "base_uri": "https://localhost:8080/",
          "height": 519
        },
        "id": "LCru_0GJRY-s",
        "outputId": "89b3cbed-273f-4f41-a8ba-863de88e353f"
      },
      "outputs": [
        {
          "data": {
            "text/html": [
              "\n",
              "  <div id=\"df-7a46a364-dae8-40ff-85e0-35bd9bbdb6f5\">\n",
              "    <div class=\"colab-df-container\">\n",
              "      <div>\n",
              "<style scoped>\n",
              "    .dataframe tbody tr th:only-of-type {\n",
              "        vertical-align: middle;\n",
              "    }\n",
              "\n",
              "    .dataframe tbody tr th {\n",
              "        vertical-align: top;\n",
              "    }\n",
              "\n",
              "    .dataframe thead tr th {\n",
              "        text-align: left;\n",
              "    }\n",
              "\n",
              "    .dataframe thead tr:last-of-type th {\n",
              "        text-align: right;\n",
              "    }\n",
              "</style>\n",
              "<table border=\"1\" class=\"dataframe\">\n",
              "  <thead>\n",
              "    <tr>\n",
              "      <th></th>\n",
              "      <th colspan=\"21\" halign=\"left\">Accuracy</th>\n",
              "    </tr>\n",
              "    <tr>\n",
              "      <th>n_estimators</th>\n",
              "      <th>10</th>\n",
              "      <th>20</th>\n",
              "      <th>30</th>\n",
              "      <th>40</th>\n",
              "      <th>50</th>\n",
              "      <th>60</th>\n",
              "      <th>70</th>\n",
              "      <th>80</th>\n",
              "      <th>90</th>\n",
              "      <th>100</th>\n",
              "      <th>...</th>\n",
              "      <th>210</th>\n",
              "      <th>220</th>\n",
              "      <th>230</th>\n",
              "      <th>240</th>\n",
              "      <th>250</th>\n",
              "      <th>260</th>\n",
              "      <th>270</th>\n",
              "      <th>280</th>\n",
              "      <th>290</th>\n",
              "      <th>300</th>\n",
              "    </tr>\n",
              "    <tr>\n",
              "      <th>max_features</th>\n",
              "      <th></th>\n",
              "      <th></th>\n",
              "      <th></th>\n",
              "      <th></th>\n",
              "      <th></th>\n",
              "      <th></th>\n",
              "      <th></th>\n",
              "      <th></th>\n",
              "      <th></th>\n",
              "      <th></th>\n",
              "      <th></th>\n",
              "      <th></th>\n",
              "      <th></th>\n",
              "      <th></th>\n",
              "      <th></th>\n",
              "      <th></th>\n",
              "      <th></th>\n",
              "      <th></th>\n",
              "      <th></th>\n",
              "      <th></th>\n",
              "      <th></th>\n",
              "    </tr>\n",
              "  </thead>\n",
              "  <tbody>\n",
              "    <tr>\n",
              "      <th>10</th>\n",
              "      <td>0.568542</td>\n",
              "      <td>0.590611</td>\n",
              "      <td>0.595100</td>\n",
              "      <td>0.605461</td>\n",
              "      <td>0.608527</td>\n",
              "      <td>0.601725</td>\n",
              "      <td>0.611228</td>\n",
              "      <td>0.603543</td>\n",
              "      <td>0.605786</td>\n",
              "      <td>0.607876</td>\n",
              "      <td>...</td>\n",
              "      <td>0.612678</td>\n",
              "      <td>0.610401</td>\n",
              "      <td>0.610424</td>\n",
              "      <td>0.612500</td>\n",
              "      <td>0.612274</td>\n",
              "      <td>0.611278</td>\n",
              "      <td>0.610830</td>\n",
              "      <td>0.608855</td>\n",
              "      <td>0.610974</td>\n",
              "      <td>0.614187</td>\n",
              "    </tr>\n",
              "    <tr>\n",
              "      <th>20</th>\n",
              "      <td>0.575337</td>\n",
              "      <td>0.596718</td>\n",
              "      <td>0.592307</td>\n",
              "      <td>0.606277</td>\n",
              "      <td>0.607468</td>\n",
              "      <td>0.605608</td>\n",
              "      <td>0.610581</td>\n",
              "      <td>0.610103</td>\n",
              "      <td>0.607608</td>\n",
              "      <td>0.609175</td>\n",
              "      <td>...</td>\n",
              "      <td>0.615329</td>\n",
              "      <td>0.612610</td>\n",
              "      <td>0.614526</td>\n",
              "      <td>0.613742</td>\n",
              "      <td>0.614019</td>\n",
              "      <td>0.613994</td>\n",
              "      <td>0.614527</td>\n",
              "      <td>0.614291</td>\n",
              "      <td>0.614576</td>\n",
              "      <td>0.615235</td>\n",
              "    </tr>\n",
              "    <tr>\n",
              "      <th>30</th>\n",
              "      <td>0.569582</td>\n",
              "      <td>0.601605</td>\n",
              "      <td>0.605868</td>\n",
              "      <td>0.601812</td>\n",
              "      <td>0.608831</td>\n",
              "      <td>0.605606</td>\n",
              "      <td>0.615402</td>\n",
              "      <td>0.606821</td>\n",
              "      <td>0.608257</td>\n",
              "      <td>0.613222</td>\n",
              "      <td>...</td>\n",
              "      <td>0.613994</td>\n",
              "      <td>0.614651</td>\n",
              "      <td>0.613929</td>\n",
              "      <td>0.615576</td>\n",
              "      <td>0.615512</td>\n",
              "      <td>0.614255</td>\n",
              "      <td>0.612774</td>\n",
              "      <td>0.617975</td>\n",
              "      <td>0.610907</td>\n",
              "      <td>0.616657</td>\n",
              "    </tr>\n",
              "    <tr>\n",
              "      <th>40</th>\n",
              "      <td>0.588646</td>\n",
              "      <td>0.598093</td>\n",
              "      <td>0.599477</td>\n",
              "      <td>0.601154</td>\n",
              "      <td>0.608029</td>\n",
              "      <td>0.612213</td>\n",
              "      <td>0.605353</td>\n",
              "      <td>0.613876</td>\n",
              "      <td>0.610797</td>\n",
              "      <td>0.617185</td>\n",
              "      <td>...</td>\n",
              "      <td>0.614685</td>\n",
              "      <td>0.618066</td>\n",
              "      <td>0.616778</td>\n",
              "      <td>0.614777</td>\n",
              "      <td>0.614645</td>\n",
              "      <td>0.614932</td>\n",
              "      <td>0.616057</td>\n",
              "      <td>0.614418</td>\n",
              "      <td>0.617782</td>\n",
              "      <td>0.614620</td>\n",
              "    </tr>\n",
              "    <tr>\n",
              "      <th>50</th>\n",
              "      <td>0.568521</td>\n",
              "      <td>0.600217</td>\n",
              "      <td>0.603259</td>\n",
              "      <td>0.607242</td>\n",
              "      <td>0.609065</td>\n",
              "      <td>0.613795</td>\n",
              "      <td>0.606533</td>\n",
              "      <td>0.615174</td>\n",
              "      <td>0.608465</td>\n",
              "      <td>0.610541</td>\n",
              "      <td>...</td>\n",
              "      <td>0.616247</td>\n",
              "      <td>0.614538</td>\n",
              "      <td>0.615423</td>\n",
              "      <td>0.613534</td>\n",
              "      <td>0.615971</td>\n",
              "      <td>0.612689</td>\n",
              "      <td>0.613211</td>\n",
              "      <td>0.614822</td>\n",
              "      <td>0.614815</td>\n",
              "      <td>0.614782</td>\n",
              "    </tr>\n",
              "    <tr>\n",
              "      <th>60</th>\n",
              "      <td>0.570157</td>\n",
              "      <td>0.604416</td>\n",
              "      <td>0.598413</td>\n",
              "      <td>0.606876</td>\n",
              "      <td>0.604167</td>\n",
              "      <td>0.609061</td>\n",
              "      <td>0.605672</td>\n",
              "      <td>0.611637</td>\n",
              "      <td>0.611057</td>\n",
              "      <td>0.612047</td>\n",
              "      <td>...</td>\n",
              "      <td>0.610962</td>\n",
              "      <td>0.609189</td>\n",
              "      <td>0.612710</td>\n",
              "      <td>0.611217</td>\n",
              "      <td>0.612723</td>\n",
              "      <td>0.613356</td>\n",
              "      <td>0.613918</td>\n",
              "      <td>0.613505</td>\n",
              "      <td>0.612672</td>\n",
              "      <td>0.612649</td>\n",
              "    </tr>\n",
              "    <tr>\n",
              "      <th>70</th>\n",
              "      <td>0.573807</td>\n",
              "      <td>0.593772</td>\n",
              "      <td>0.601300</td>\n",
              "      <td>0.601535</td>\n",
              "      <td>0.603460</td>\n",
              "      <td>0.600999</td>\n",
              "      <td>0.609280</td>\n",
              "      <td>0.607718</td>\n",
              "      <td>0.609460</td>\n",
              "      <td>0.610745</td>\n",
              "      <td>...</td>\n",
              "      <td>0.613833</td>\n",
              "      <td>0.610852</td>\n",
              "      <td>0.614258</td>\n",
              "      <td>0.613009</td>\n",
              "      <td>0.612414</td>\n",
              "      <td>0.613381</td>\n",
              "      <td>0.611873</td>\n",
              "      <td>0.610465</td>\n",
              "      <td>0.611592</td>\n",
              "      <td>0.613788</td>\n",
              "    </tr>\n",
              "    <tr>\n",
              "      <th>80</th>\n",
              "      <td>0.591584</td>\n",
              "      <td>0.597413</td>\n",
              "      <td>0.597845</td>\n",
              "      <td>0.605048</td>\n",
              "      <td>0.605399</td>\n",
              "      <td>0.602701</td>\n",
              "      <td>0.611387</td>\n",
              "      <td>0.609805</td>\n",
              "      <td>0.611837</td>\n",
              "      <td>0.604035</td>\n",
              "      <td>...</td>\n",
              "      <td>0.610200</td>\n",
              "      <td>0.610646</td>\n",
              "      <td>0.615217</td>\n",
              "      <td>0.613031</td>\n",
              "      <td>0.613220</td>\n",
              "      <td>0.610725</td>\n",
              "      <td>0.609810</td>\n",
              "      <td>0.612278</td>\n",
              "      <td>0.611199</td>\n",
              "      <td>0.612171</td>\n",
              "    </tr>\n",
              "    <tr>\n",
              "      <th>90</th>\n",
              "      <td>0.578976</td>\n",
              "      <td>0.591426</td>\n",
              "      <td>0.602774</td>\n",
              "      <td>0.601847</td>\n",
              "      <td>0.605590</td>\n",
              "      <td>0.604639</td>\n",
              "      <td>0.607445</td>\n",
              "      <td>0.605015</td>\n",
              "      <td>0.607179</td>\n",
              "      <td>0.608379</td>\n",
              "      <td>...</td>\n",
              "      <td>0.607962</td>\n",
              "      <td>0.608039</td>\n",
              "      <td>0.608716</td>\n",
              "      <td>0.610029</td>\n",
              "      <td>0.610870</td>\n",
              "      <td>0.608030</td>\n",
              "      <td>0.611114</td>\n",
              "      <td>0.610500</td>\n",
              "      <td>0.610520</td>\n",
              "      <td>0.610459</td>\n",
              "    </tr>\n",
              "    <tr>\n",
              "      <th>100</th>\n",
              "      <td>0.568435</td>\n",
              "      <td>0.584353</td>\n",
              "      <td>0.597082</td>\n",
              "      <td>0.603518</td>\n",
              "      <td>0.599937</td>\n",
              "      <td>0.603366</td>\n",
              "      <td>0.609050</td>\n",
              "      <td>0.608626</td>\n",
              "      <td>0.605780</td>\n",
              "      <td>0.607381</td>\n",
              "      <td>...</td>\n",
              "      <td>0.611314</td>\n",
              "      <td>0.610979</td>\n",
              "      <td>0.607511</td>\n",
              "      <td>0.609777</td>\n",
              "      <td>0.612000</td>\n",
              "      <td>0.609158</td>\n",
              "      <td>0.610000</td>\n",
              "      <td>0.608049</td>\n",
              "      <td>0.610168</td>\n",
              "      <td>0.610583</td>\n",
              "    </tr>\n",
              "  </tbody>\n",
              "</table>\n",
              "<p>10 rows × 30 columns</p>\n",
              "</div>\n",
              "      <button class=\"colab-df-convert\" onclick=\"convertToInteractive('df-7a46a364-dae8-40ff-85e0-35bd9bbdb6f5')\"\n",
              "              title=\"Convert this dataframe to an interactive table.\"\n",
              "              style=\"display:none;\">\n",
              "        \n",
              "  <svg xmlns=\"http://www.w3.org/2000/svg\" height=\"24px\"viewBox=\"0 0 24 24\"\n",
              "       width=\"24px\">\n",
              "    <path d=\"M0 0h24v24H0V0z\" fill=\"none\"/>\n",
              "    <path d=\"M18.56 5.44l.94 2.06.94-2.06 2.06-.94-2.06-.94-.94-2.06-.94 2.06-2.06.94zm-11 1L8.5 8.5l.94-2.06 2.06-.94-2.06-.94L8.5 2.5l-.94 2.06-2.06.94zm10 10l.94 2.06.94-2.06 2.06-.94-2.06-.94-.94-2.06-.94 2.06-2.06.94z\"/><path d=\"M17.41 7.96l-1.37-1.37c-.4-.4-.92-.59-1.43-.59-.52 0-1.04.2-1.43.59L10.3 9.45l-7.72 7.72c-.78.78-.78 2.05 0 2.83L4 21.41c.39.39.9.59 1.41.59.51 0 1.02-.2 1.41-.59l7.78-7.78 2.81-2.81c.8-.78.8-2.07 0-2.86zM5.41 20L4 18.59l7.72-7.72 1.47 1.35L5.41 20z\"/>\n",
              "  </svg>\n",
              "      </button>\n",
              "      \n",
              "  <style>\n",
              "    .colab-df-container {\n",
              "      display:flex;\n",
              "      flex-wrap:wrap;\n",
              "      gap: 12px;\n",
              "    }\n",
              "\n",
              "    .colab-df-convert {\n",
              "      background-color: #E8F0FE;\n",
              "      border: none;\n",
              "      border-radius: 50%;\n",
              "      cursor: pointer;\n",
              "      display: none;\n",
              "      fill: #1967D2;\n",
              "      height: 32px;\n",
              "      padding: 0 0 0 0;\n",
              "      width: 32px;\n",
              "    }\n",
              "\n",
              "    .colab-df-convert:hover {\n",
              "      background-color: #E2EBFA;\n",
              "      box-shadow: 0px 1px 2px rgba(60, 64, 67, 0.3), 0px 1px 3px 1px rgba(60, 64, 67, 0.15);\n",
              "      fill: #174EA6;\n",
              "    }\n",
              "\n",
              "    [theme=dark] .colab-df-convert {\n",
              "      background-color: #3B4455;\n",
              "      fill: #D2E3FC;\n",
              "    }\n",
              "\n",
              "    [theme=dark] .colab-df-convert:hover {\n",
              "      background-color: #434B5C;\n",
              "      box-shadow: 0px 1px 3px 1px rgba(0, 0, 0, 0.15);\n",
              "      filter: drop-shadow(0px 1px 2px rgba(0, 0, 0, 0.3));\n",
              "      fill: #FFFFFF;\n",
              "    }\n",
              "  </style>\n",
              "\n",
              "      <script>\n",
              "        const buttonEl =\n",
              "          document.querySelector('#df-7a46a364-dae8-40ff-85e0-35bd9bbdb6f5 button.colab-df-convert');\n",
              "        buttonEl.style.display =\n",
              "          google.colab.kernel.accessAllowed ? 'block' : 'none';\n",
              "\n",
              "        async function convertToInteractive(key) {\n",
              "          const element = document.querySelector('#df-7a46a364-dae8-40ff-85e0-35bd9bbdb6f5');\n",
              "          const dataTable =\n",
              "            await google.colab.kernel.invokeFunction('convertToInteractive',\n",
              "                                                     [key], {});\n",
              "          if (!dataTable) return;\n",
              "\n",
              "          const docLinkHtml = 'Like what you see? Visit the ' +\n",
              "            '<a target=\"_blank\" href=https://colab.research.google.com/notebooks/data_table.ipynb>data table notebook</a>'\n",
              "            + ' to learn more about interactive tables.';\n",
              "          element.innerHTML = '';\n",
              "          dataTable['output_type'] = 'display_data';\n",
              "          await google.colab.output.renderOutput(dataTable, element);\n",
              "          const docLink = document.createElement('div');\n",
              "          docLink.innerHTML = docLinkHtml;\n",
              "          element.appendChild(docLink);\n",
              "        }\n",
              "      </script>\n",
              "    </div>\n",
              "  </div>\n",
              "  "
            ],
            "text/plain": [
              "              Accuracy                                                    \\\n",
              "n_estimators       10        20        30        40        50        60    \n",
              "max_features                                                               \n",
              "10            0.568542  0.590611  0.595100  0.605461  0.608527  0.601725   \n",
              "20            0.575337  0.596718  0.592307  0.606277  0.607468  0.605608   \n",
              "30            0.569582  0.601605  0.605868  0.601812  0.608831  0.605606   \n",
              "40            0.588646  0.598093  0.599477  0.601154  0.608029  0.612213   \n",
              "50            0.568521  0.600217  0.603259  0.607242  0.609065  0.613795   \n",
              "60            0.570157  0.604416  0.598413  0.606876  0.604167  0.609061   \n",
              "70            0.573807  0.593772  0.601300  0.601535  0.603460  0.600999   \n",
              "80            0.591584  0.597413  0.597845  0.605048  0.605399  0.602701   \n",
              "90            0.578976  0.591426  0.602774  0.601847  0.605590  0.604639   \n",
              "100           0.568435  0.584353  0.597082  0.603518  0.599937  0.603366   \n",
              "\n",
              "                                                      ...                      \\\n",
              "n_estimators       70        80        90        100  ...       210       220   \n",
              "max_features                                          ...                       \n",
              "10            0.611228  0.603543  0.605786  0.607876  ...  0.612678  0.610401   \n",
              "20            0.610581  0.610103  0.607608  0.609175  ...  0.615329  0.612610   \n",
              "30            0.615402  0.606821  0.608257  0.613222  ...  0.613994  0.614651   \n",
              "40            0.605353  0.613876  0.610797  0.617185  ...  0.614685  0.618066   \n",
              "50            0.606533  0.615174  0.608465  0.610541  ...  0.616247  0.614538   \n",
              "60            0.605672  0.611637  0.611057  0.612047  ...  0.610962  0.609189   \n",
              "70            0.609280  0.607718  0.609460  0.610745  ...  0.613833  0.610852   \n",
              "80            0.611387  0.609805  0.611837  0.604035  ...  0.610200  0.610646   \n",
              "90            0.607445  0.605015  0.607179  0.608379  ...  0.607962  0.608039   \n",
              "100           0.609050  0.608626  0.605780  0.607381  ...  0.611314  0.610979   \n",
              "\n",
              "                                                                          \\\n",
              "n_estimators       230       240       250       260       270       280   \n",
              "max_features                                                               \n",
              "10            0.610424  0.612500  0.612274  0.611278  0.610830  0.608855   \n",
              "20            0.614526  0.613742  0.614019  0.613994  0.614527  0.614291   \n",
              "30            0.613929  0.615576  0.615512  0.614255  0.612774  0.617975   \n",
              "40            0.616778  0.614777  0.614645  0.614932  0.616057  0.614418   \n",
              "50            0.615423  0.613534  0.615971  0.612689  0.613211  0.614822   \n",
              "60            0.612710  0.611217  0.612723  0.613356  0.613918  0.613505   \n",
              "70            0.614258  0.613009  0.612414  0.613381  0.611873  0.610465   \n",
              "80            0.615217  0.613031  0.613220  0.610725  0.609810  0.612278   \n",
              "90            0.608716  0.610029  0.610870  0.608030  0.611114  0.610500   \n",
              "100           0.607511  0.609777  0.612000  0.609158  0.610000  0.608049   \n",
              "\n",
              "                                  \n",
              "n_estimators       290       300  \n",
              "max_features                      \n",
              "10            0.610974  0.614187  \n",
              "20            0.614576  0.615235  \n",
              "30            0.610907  0.616657  \n",
              "40            0.617782  0.614620  \n",
              "50            0.614815  0.614782  \n",
              "60            0.612672  0.612649  \n",
              "70            0.611592  0.613788  \n",
              "80            0.611199  0.612171  \n",
              "90            0.610520  0.610459  \n",
              "100           0.610168  0.610583  \n",
              "\n",
              "[10 rows x 30 columns]"
            ]
          },
          "execution_count": 131,
          "metadata": {},
          "output_type": "execute_result"
        }
      ],
      "source": [
        "grid_reset = grid_contour.reset_index()\n",
        "grid_reset.columns = ['max_features', 'n_estimators', 'Accuracy']\n",
        "grid_pivot = grid_reset.pivot('max_features', 'n_estimators')\n",
        "grid_pivot"
      ]
    },
    {
      "cell_type": "code",
      "execution_count": null,
      "metadata": {
        "id": "aL0S5lV7RfKa"
      },
      "outputs": [],
      "source": [
        "x = grid_pivot.columns.levels[1].values\n",
        "y = grid_pivot.index.values\n",
        "z = grid_pivot.values"
      ]
    },
    {
      "cell_type": "markdown",
      "metadata": {
        "id": "WFCz6WSjBy-j"
      },
      "source": [
        "# **2D Contour Plot**\n",
        "\n",
        "Visualization of the landscape of the 2 hyperparameters that we are tuning and their influence on the accuracy score."
      ]
    },
    {
      "cell_type": "code",
      "execution_count": null,
      "metadata": {
        "colab": {
          "base_uri": "https://localhost:8080/",
          "height": 517
        },
        "id": "pJjmk5UkRk0s",
        "outputId": "efcaff3e-2d7e-41ef-e9ee-51533ec80e6b"
      },
      "outputs": [
        {
          "data": {
            "text/html": [
              "<html>\n",
              "<head><meta charset=\"utf-8\" /></head>\n",
              "<body>\n",
              "    <div>            <script src=\"https://cdnjs.cloudflare.com/ajax/libs/mathjax/2.7.5/MathJax.js?config=TeX-AMS-MML_SVG\"></script><script type=\"text/javascript\">if (window.MathJax) {MathJax.Hub.Config({SVG: {font: \"STIX-Web\"}});}</script>                <script type=\"text/javascript\">window.PlotlyConfig = {MathJaxConfig: 'local'};</script>\n",
              "        <script src=\"https://cdn.plot.ly/plotly-2.8.3.min.js\"></script>                <div id=\"064cec3d-b0f3-4598-b17d-2c0b1f8c9d52\" class=\"plotly-graph-div\" style=\"height:500px; width:500px;\"></div>            <script type=\"text/javascript\">                                    window.PLOTLYENV=window.PLOTLYENV || {};                                    if (document.getElementById(\"064cec3d-b0f3-4598-b17d-2c0b1f8c9d52\")) {                    Plotly.newPlot(                        \"064cec3d-b0f3-4598-b17d-2c0b1f8c9d52\",                        [{\"x\":[10,20,30,40,50,60,70,80,90,100,110,120,130,140,150,160,170,180,190,200,210,220,230,240,250,260,270,280,290,300],\"y\":[1,2,3,4,5,6,7,8,9,10],\"z\":[[0.568350343134534,0.5813468067783087,0.5855131229448385,0.5809099302016485,0.5790409663426932,0.5887738184927939,0.593429646590506,0.5900099191942484,0.5914910209460955,0.5922977331225594,0.5952709694033474,0.596036434216528,0.5924124467774099,0.5929900878307199,0.5952455446075313,0.5946461592209863,0.5983699535657194,0.5942378927748837,0.5969317621202437,0.5945222513836297,0.5986927563830651,0.5965034594098861,0.5961706011440763,0.595511289831566,0.5992378844114289,0.5971232050400224,0.5967277983065179,0.5963727139001112,0.5955853958397886,0.5965160760027344],[0.5542581837000243,0.5750707148039018,0.5874409535078705,0.5871176975810716,0.5909732201064306,0.5937314156435178,0.5982619176202817,0.5943190954904368,0.5965174134569893,0.5997727149929661,0.5975864214598098,0.5980159813304228,0.5998825617553795,0.5964633446878645,0.5991768462191998,0.5994271643322804,0.5991582612853154,0.6026795462135386,0.5971386552918824,0.6003558183614166,0.5991933917489016,0.5978637876838404,0.5976952048370701,0.6003627082410776,0.6030098212192035,0.5998720212780638,0.5994043072516272,0.6011532963103596,0.5993470105463935,0.6021310422100039],[0.5697976589997349,0.5894429108851862,0.5878310684097994,0.5978611812728744,0.6002970322004636,0.5951964733481098,0.598716218107815,0.5940009459580408,0.599738876879558,0.6037025909851281,0.6016591685602035,0.6026837874115849,0.6041789674629203,0.6041606833846608,0.6007151456691575,0.5994133619964016,0.6022503749333522,0.6016220561938376,0.6049827726435588,0.6033593814810365,0.6017190307795666,0.6031341904969693,0.6014227411595182,0.5997520807305569,0.6021077662267686,0.6016597316273615,0.6054242011893178,0.6046842697948502,0.6022461955857172,0.6036271656886016],[0.5792635074468376,0.583655721271591,0.5952741752903096,0.5938054089999677,0.6024053446251937,0.5952683735646208,0.6021995837459949,0.6033442755348617,0.604278759340202,0.6018185107578505,0.6011935292502366,0.599802744643152,0.601491835756627,0.6011736870417466,0.6071643238856916,0.6037862558735301,0.6046153800451339,0.6014710947584785,0.606913746364467,0.6079782507999646,0.6030897175485975,0.6043764004897496,0.6042874101096718,0.6056110312617087,0.6024534007088367,0.6072803067615293,0.6049478878527251,0.60488747509806,0.6041822629741719,0.6063680130870154],[0.5658332460614947,0.5846811592009014,0.5999692114078083,0.599803828424387,0.6043013119851969,0.6072629899183235,0.6067490818464891,0.6032836765111694,0.6042120520534194,0.6029951928942031,0.6039196274297036,0.607244359678329,0.6091931625780812,0.609126891799786,0.6052022698785913,0.6069909117442329,0.6067314697605034,0.6042045332581185,0.6040626372088271,0.6075982279368707,0.6060511331267034,0.6050572420288189,0.6062389162995562,0.6075246308321183,0.6048482063510677,0.6100103368349045,0.6067560852333589,0.6055744829611133,0.6087851462129349,0.6070520820856775],[0.5581375235635112,0.5945656406890001,0.5949486952364711,0.5970163481489051,0.6003440530351795,0.6041219344059278,0.6031467458725113,0.6002115895036944,0.6041950322372175,0.6032223794415639,0.6077671116458253,0.6115016193310654,0.6074410345401388,0.6057444009782207,0.6047428496674796,0.6062611742835129,0.6071108387569215,0.6076543347314095,0.6065772393803369,0.6078847810956596,0.6084292079178697,0.6066781932204319,0.6047843688827468,0.608857186918382,0.6062628897792288,0.6062744713839199,0.6075379243869885,0.61010898935805,0.6097767546693914,0.6080950809636473],[0.5602167533821716,0.5945809354345878,0.6015739373477922,0.6051913275980552,0.6037688221703281,0.6007435583544852,0.6045186438542919,0.6028402132594541,0.6059714186000813,0.604103829421683,0.6072424621280389,0.6081282918191728,0.6050338820251095,0.6054625351564078,0.6064225838498605,0.608567359858424,0.6080214367920729,0.6087167495965384,0.6083649169173397,0.6093366465508273,0.611061568009313,0.6090228488880753,0.607491793672699,0.6068548572939632,0.6088904787527567,0.6072699587259418,0.6111400274371688,0.6066020306245846,0.6109485121865958,0.608025683221789],[0.5565943427436942,0.6016246655904066,0.5900462988932943,0.6038495599785263,0.6053120725591915,0.6015901723738505,0.6014372468423055,0.6105922054487791,0.6021894581841325,0.6066233139869238,0.6085278586262035,0.605327302129874,0.6126491038268022,0.6096415867298117,0.6121992859387693,0.6124858447348192,0.6102174451382757,0.6071682942950597,0.6067487288911536,0.609329787558006,0.6104681411462722,0.6093461469392174,0.6084593670507114,0.6089848126673079,0.6104321045358283,0.6094053508722077,0.6094079401353495,0.6121112695065924,0.6119278045728882,0.6102478711656509],[0.5817190333172755,0.5955589347374921,0.602680035040378,0.601004860115218,0.6082156581044394,0.6087561376603906,0.6045694565509657,0.603844979543868,0.6095576401208295,0.6100456862830279,0.6095871376585688,0.6104928054900931,0.6121352842550958,0.6110337335982686,0.6060581933122469,0.6114570759319438,0.6069031482523707,0.6118000769148579,0.608058742194902,0.609411159867172,0.6112814521676835,0.6131936022004277,0.6088910575615334,0.6134669359986193,0.6118223889574936,0.6107092596260557,0.6105892574665301,0.6127457769316006,0.6115437064794284,0.6101924084555354],[0.5581036613144958,0.5923588071839994,0.5994258818065126,0.6020140134565765,0.6044558821998163,0.6063354974955683,0.6106301653830594,0.6050715970788565,0.6094896043741437,0.6107434899706696,0.6105652154833704,0.6075555540191152,0.6086320130013624,0.6107112719151656,0.6097072999331126,0.6084412849028364,0.6096186749454698,0.6094782418069418,0.6096077221404365,0.6132491102391235,0.6101741874206214,0.6146255929086466,0.6125702318379165,0.6154951306078589,0.6091878460509875,0.6128352635364044,0.6119535650323634,0.6129810416478019,0.612147067089764,0.615050619366831]],\"type\":\"contour\"}],                        {\"xaxis\":{\"title\":{\"text\":\"n_estimators\"}},\"yaxis\":{\"title\":{\"text\":\"max_features\"}},\"template\":{\"data\":{\"bar\":[{\"error_x\":{\"color\":\"#2a3f5f\"},\"error_y\":{\"color\":\"#2a3f5f\"},\"marker\":{\"line\":{\"color\":\"#E5ECF6\",\"width\":0.5},\"pattern\":{\"fillmode\":\"overlay\",\"size\":10,\"solidity\":0.2}},\"type\":\"bar\"}],\"barpolar\":[{\"marker\":{\"line\":{\"color\":\"#E5ECF6\",\"width\":0.5},\"pattern\":{\"fillmode\":\"overlay\",\"size\":10,\"solidity\":0.2}},\"type\":\"barpolar\"}],\"carpet\":[{\"aaxis\":{\"endlinecolor\":\"#2a3f5f\",\"gridcolor\":\"white\",\"linecolor\":\"white\",\"minorgridcolor\":\"white\",\"startlinecolor\":\"#2a3f5f\"},\"baxis\":{\"endlinecolor\":\"#2a3f5f\",\"gridcolor\":\"white\",\"linecolor\":\"white\",\"minorgridcolor\":\"white\",\"startlinecolor\":\"#2a3f5f\"},\"type\":\"carpet\"}],\"choropleth\":[{\"colorbar\":{\"outlinewidth\":0,\"ticks\":\"\"},\"type\":\"choropleth\"}],\"contour\":[{\"colorbar\":{\"outlinewidth\":0,\"ticks\":\"\"},\"colorscale\":[[0.0,\"#0d0887\"],[0.1111111111111111,\"#46039f\"],[0.2222222222222222,\"#7201a8\"],[0.3333333333333333,\"#9c179e\"],[0.4444444444444444,\"#bd3786\"],[0.5555555555555556,\"#d8576b\"],[0.6666666666666666,\"#ed7953\"],[0.7777777777777778,\"#fb9f3a\"],[0.8888888888888888,\"#fdca26\"],[1.0,\"#f0f921\"]],\"type\":\"contour\"}],\"contourcarpet\":[{\"colorbar\":{\"outlinewidth\":0,\"ticks\":\"\"},\"type\":\"contourcarpet\"}],\"heatmap\":[{\"colorbar\":{\"outlinewidth\":0,\"ticks\":\"\"},\"colorscale\":[[0.0,\"#0d0887\"],[0.1111111111111111,\"#46039f\"],[0.2222222222222222,\"#7201a8\"],[0.3333333333333333,\"#9c179e\"],[0.4444444444444444,\"#bd3786\"],[0.5555555555555556,\"#d8576b\"],[0.6666666666666666,\"#ed7953\"],[0.7777777777777778,\"#fb9f3a\"],[0.8888888888888888,\"#fdca26\"],[1.0,\"#f0f921\"]],\"type\":\"heatmap\"}],\"heatmapgl\":[{\"colorbar\":{\"outlinewidth\":0,\"ticks\":\"\"},\"colorscale\":[[0.0,\"#0d0887\"],[0.1111111111111111,\"#46039f\"],[0.2222222222222222,\"#7201a8\"],[0.3333333333333333,\"#9c179e\"],[0.4444444444444444,\"#bd3786\"],[0.5555555555555556,\"#d8576b\"],[0.6666666666666666,\"#ed7953\"],[0.7777777777777778,\"#fb9f3a\"],[0.8888888888888888,\"#fdca26\"],[1.0,\"#f0f921\"]],\"type\":\"heatmapgl\"}],\"histogram\":[{\"marker\":{\"pattern\":{\"fillmode\":\"overlay\",\"size\":10,\"solidity\":0.2}},\"type\":\"histogram\"}],\"histogram2d\":[{\"colorbar\":{\"outlinewidth\":0,\"ticks\":\"\"},\"colorscale\":[[0.0,\"#0d0887\"],[0.1111111111111111,\"#46039f\"],[0.2222222222222222,\"#7201a8\"],[0.3333333333333333,\"#9c179e\"],[0.4444444444444444,\"#bd3786\"],[0.5555555555555556,\"#d8576b\"],[0.6666666666666666,\"#ed7953\"],[0.7777777777777778,\"#fb9f3a\"],[0.8888888888888888,\"#fdca26\"],[1.0,\"#f0f921\"]],\"type\":\"histogram2d\"}],\"histogram2dcontour\":[{\"colorbar\":{\"outlinewidth\":0,\"ticks\":\"\"},\"colorscale\":[[0.0,\"#0d0887\"],[0.1111111111111111,\"#46039f\"],[0.2222222222222222,\"#7201a8\"],[0.3333333333333333,\"#9c179e\"],[0.4444444444444444,\"#bd3786\"],[0.5555555555555556,\"#d8576b\"],[0.6666666666666666,\"#ed7953\"],[0.7777777777777778,\"#fb9f3a\"],[0.8888888888888888,\"#fdca26\"],[1.0,\"#f0f921\"]],\"type\":\"histogram2dcontour\"}],\"mesh3d\":[{\"colorbar\":{\"outlinewidth\":0,\"ticks\":\"\"},\"type\":\"mesh3d\"}],\"parcoords\":[{\"line\":{\"colorbar\":{\"outlinewidth\":0,\"ticks\":\"\"}},\"type\":\"parcoords\"}],\"pie\":[{\"automargin\":true,\"type\":\"pie\"}],\"scatter\":[{\"marker\":{\"colorbar\":{\"outlinewidth\":0,\"ticks\":\"\"}},\"type\":\"scatter\"}],\"scatter3d\":[{\"line\":{\"colorbar\":{\"outlinewidth\":0,\"ticks\":\"\"}},\"marker\":{\"colorbar\":{\"outlinewidth\":0,\"ticks\":\"\"}},\"type\":\"scatter3d\"}],\"scattercarpet\":[{\"marker\":{\"colorbar\":{\"outlinewidth\":0,\"ticks\":\"\"}},\"type\":\"scattercarpet\"}],\"scattergeo\":[{\"marker\":{\"colorbar\":{\"outlinewidth\":0,\"ticks\":\"\"}},\"type\":\"scattergeo\"}],\"scattergl\":[{\"marker\":{\"colorbar\":{\"outlinewidth\":0,\"ticks\":\"\"}},\"type\":\"scattergl\"}],\"scattermapbox\":[{\"marker\":{\"colorbar\":{\"outlinewidth\":0,\"ticks\":\"\"}},\"type\":\"scattermapbox\"}],\"scatterpolar\":[{\"marker\":{\"colorbar\":{\"outlinewidth\":0,\"ticks\":\"\"}},\"type\":\"scatterpolar\"}],\"scatterpolargl\":[{\"marker\":{\"colorbar\":{\"outlinewidth\":0,\"ticks\":\"\"}},\"type\":\"scatterpolargl\"}],\"scatterternary\":[{\"marker\":{\"colorbar\":{\"outlinewidth\":0,\"ticks\":\"\"}},\"type\":\"scatterternary\"}],\"surface\":[{\"colorbar\":{\"outlinewidth\":0,\"ticks\":\"\"},\"colorscale\":[[0.0,\"#0d0887\"],[0.1111111111111111,\"#46039f\"],[0.2222222222222222,\"#7201a8\"],[0.3333333333333333,\"#9c179e\"],[0.4444444444444444,\"#bd3786\"],[0.5555555555555556,\"#d8576b\"],[0.6666666666666666,\"#ed7953\"],[0.7777777777777778,\"#fb9f3a\"],[0.8888888888888888,\"#fdca26\"],[1.0,\"#f0f921\"]],\"type\":\"surface\"}],\"table\":[{\"cells\":{\"fill\":{\"color\":\"#EBF0F8\"},\"line\":{\"color\":\"white\"}},\"header\":{\"fill\":{\"color\":\"#C8D4E3\"},\"line\":{\"color\":\"white\"}},\"type\":\"table\"}]},\"layout\":{\"annotationdefaults\":{\"arrowcolor\":\"#2a3f5f\",\"arrowhead\":0,\"arrowwidth\":1},\"autotypenumbers\":\"strict\",\"coloraxis\":{\"colorbar\":{\"outlinewidth\":0,\"ticks\":\"\"}},\"colorscale\":{\"diverging\":[[0,\"#8e0152\"],[0.1,\"#c51b7d\"],[0.2,\"#de77ae\"],[0.3,\"#f1b6da\"],[0.4,\"#fde0ef\"],[0.5,\"#f7f7f7\"],[0.6,\"#e6f5d0\"],[0.7,\"#b8e186\"],[0.8,\"#7fbc41\"],[0.9,\"#4d9221\"],[1,\"#276419\"]],\"sequential\":[[0.0,\"#0d0887\"],[0.1111111111111111,\"#46039f\"],[0.2222222222222222,\"#7201a8\"],[0.3333333333333333,\"#9c179e\"],[0.4444444444444444,\"#bd3786\"],[0.5555555555555556,\"#d8576b\"],[0.6666666666666666,\"#ed7953\"],[0.7777777777777778,\"#fb9f3a\"],[0.8888888888888888,\"#fdca26\"],[1.0,\"#f0f921\"]],\"sequentialminus\":[[0.0,\"#0d0887\"],[0.1111111111111111,\"#46039f\"],[0.2222222222222222,\"#7201a8\"],[0.3333333333333333,\"#9c179e\"],[0.4444444444444444,\"#bd3786\"],[0.5555555555555556,\"#d8576b\"],[0.6666666666666666,\"#ed7953\"],[0.7777777777777778,\"#fb9f3a\"],[0.8888888888888888,\"#fdca26\"],[1.0,\"#f0f921\"]]},\"colorway\":[\"#636efa\",\"#EF553B\",\"#00cc96\",\"#ab63fa\",\"#FFA15A\",\"#19d3f3\",\"#FF6692\",\"#B6E880\",\"#FF97FF\",\"#FECB52\"],\"font\":{\"color\":\"#2a3f5f\"},\"geo\":{\"bgcolor\":\"white\",\"lakecolor\":\"white\",\"landcolor\":\"#E5ECF6\",\"showlakes\":true,\"showland\":true,\"subunitcolor\":\"white\"},\"hoverlabel\":{\"align\":\"left\"},\"hovermode\":\"closest\",\"mapbox\":{\"style\":\"light\"},\"paper_bgcolor\":\"white\",\"plot_bgcolor\":\"#E5ECF6\",\"polar\":{\"angularaxis\":{\"gridcolor\":\"white\",\"linecolor\":\"white\",\"ticks\":\"\"},\"bgcolor\":\"#E5ECF6\",\"radialaxis\":{\"gridcolor\":\"white\",\"linecolor\":\"white\",\"ticks\":\"\"}},\"scene\":{\"xaxis\":{\"backgroundcolor\":\"#E5ECF6\",\"gridcolor\":\"white\",\"gridwidth\":2,\"linecolor\":\"white\",\"showbackground\":true,\"ticks\":\"\",\"zerolinecolor\":\"white\"},\"yaxis\":{\"backgroundcolor\":\"#E5ECF6\",\"gridcolor\":\"white\",\"gridwidth\":2,\"linecolor\":\"white\",\"showbackground\":true,\"ticks\":\"\",\"zerolinecolor\":\"white\"},\"zaxis\":{\"backgroundcolor\":\"#E5ECF6\",\"gridcolor\":\"white\",\"gridwidth\":2,\"linecolor\":\"white\",\"showbackground\":true,\"ticks\":\"\",\"zerolinecolor\":\"white\"}},\"shapedefaults\":{\"line\":{\"color\":\"#2a3f5f\"}},\"ternary\":{\"aaxis\":{\"gridcolor\":\"white\",\"linecolor\":\"white\",\"ticks\":\"\"},\"baxis\":{\"gridcolor\":\"white\",\"linecolor\":\"white\",\"ticks\":\"\"},\"bgcolor\":\"#E5ECF6\",\"caxis\":{\"gridcolor\":\"white\",\"linecolor\":\"white\",\"ticks\":\"\"}},\"title\":{\"x\":0.05},\"xaxis\":{\"automargin\":true,\"gridcolor\":\"white\",\"linecolor\":\"white\",\"ticks\":\"\",\"title\":{\"standoff\":15},\"zerolinecolor\":\"white\",\"zerolinewidth\":2},\"yaxis\":{\"automargin\":true,\"gridcolor\":\"white\",\"linecolor\":\"white\",\"ticks\":\"\",\"title\":{\"standoff\":15},\"zerolinecolor\":\"white\",\"zerolinewidth\":2}}},\"margin\":{\"l\":65,\"r\":50,\"b\":65,\"t\":90},\"title\":{\"text\":\"Hyperparameter tuning\"},\"autosize\":false,\"width\":500,\"height\":500},                        {\"responsive\": true}                    ).then(function(){\n",
              "                            \n",
              "var gd = document.getElementById('064cec3d-b0f3-4598-b17d-2c0b1f8c9d52');\n",
              "var x = new MutationObserver(function (mutations, observer) {{\n",
              "        var display = window.getComputedStyle(gd).display;\n",
              "        if (!display || display === 'none') {{\n",
              "            console.log([gd, 'removed!']);\n",
              "            Plotly.purge(gd);\n",
              "            observer.disconnect();\n",
              "        }}\n",
              "}});\n",
              "\n",
              "// Listen for the removal of the full notebook cells\n",
              "var notebookContainer = gd.closest('#notebook-container');\n",
              "if (notebookContainer) {{\n",
              "    x.observe(notebookContainer, {childList: true});\n",
              "}}\n",
              "\n",
              "// Listen for the clearing of the current output cell\n",
              "var outputEl = gd.closest('.output');\n",
              "if (outputEl) {{\n",
              "    x.observe(outputEl, {childList: true});\n",
              "}}\n",
              "\n",
              "                        })                };                            </script>        </div>\n",
              "</body>\n",
              "</html>"
            ]
          },
          "metadata": {},
          "output_type": "display_data"
        }
      ],
      "source": [
        "import plotly.graph_objects as go\n",
        "\n",
        "# X and Y axes labels\n",
        "layout = go.Layout(\n",
        "            xaxis=go.layout.XAxis(\n",
        "              title=go.layout.xaxis.Title(\n",
        "              text='n_estimators')\n",
        "             ),\n",
        "             yaxis=go.layout.YAxis(\n",
        "              title=go.layout.yaxis.Title(\n",
        "              text='max_features') \n",
        "            ) )\n",
        "\n",
        "fig = go.Figure(data = [go.Contour(z=z, x=x, y=y)], layout=layout )\n",
        "\n",
        "fig.update_layout(title='Hyperparameter tuning', autosize=False,\n",
        "                  width=500, height=500,\n",
        "                  margin=dict(l=65, r=50, b=65, t=90))\n",
        "\n",
        "fig.show()"
      ]
    },
    {
      "cell_type": "markdown",
      "metadata": {
        "id": "w8IA_12Y82W5"
      },
      "source": [
        "# **3D Surface Plot**\n",
        "\n"
      ]
    },
    {
      "cell_type": "code",
      "execution_count": null,
      "metadata": {
        "colab": {
          "base_uri": "https://localhost:8080/",
          "height": 817
        },
        "id": "hxJ3SHi4Rw_f",
        "outputId": "225ff4d9-9416-480f-c281-4ed94534f53b"
      },
      "outputs": [
        {
          "data": {
            "text/html": [
              "<html>\n",
              "<head><meta charset=\"utf-8\" /></head>\n",
              "<body>\n",
              "    <div>            <script src=\"https://cdnjs.cloudflare.com/ajax/libs/mathjax/2.7.5/MathJax.js?config=TeX-AMS-MML_SVG\"></script><script type=\"text/javascript\">if (window.MathJax) {MathJax.Hub.Config({SVG: {font: \"STIX-Web\"}});}</script>                <script type=\"text/javascript\">window.PlotlyConfig = {MathJaxConfig: 'local'};</script>\n",
              "        <script src=\"https://cdn.plot.ly/plotly-2.8.3.min.js\"></script>                <div id=\"b9c76906-892a-4826-9bb4-2cd1db4c96b9\" class=\"plotly-graph-div\" style=\"height:800px; width:800px;\"></div>            <script type=\"text/javascript\">                                    window.PLOTLYENV=window.PLOTLYENV || {};                                    if (document.getElementById(\"b9c76906-892a-4826-9bb4-2cd1db4c96b9\")) {                    Plotly.newPlot(                        \"b9c76906-892a-4826-9bb4-2cd1db4c96b9\",                        [{\"x\":[10,20,30,40,50,60,70,80,90,100,110,120,130,140,150,160,170,180,190,200,210,220,230,240,250,260,270,280,290,300],\"y\":[1,2,3,4,5,6,7,8,9,10],\"z\":[[0.568350343134534,0.5813468067783087,0.5855131229448385,0.5809099302016485,0.5790409663426932,0.5887738184927939,0.593429646590506,0.5900099191942484,0.5914910209460955,0.5922977331225594,0.5952709694033474,0.596036434216528,0.5924124467774099,0.5929900878307199,0.5952455446075313,0.5946461592209863,0.5983699535657194,0.5942378927748837,0.5969317621202437,0.5945222513836297,0.5986927563830651,0.5965034594098861,0.5961706011440763,0.595511289831566,0.5992378844114289,0.5971232050400224,0.5967277983065179,0.5963727139001112,0.5955853958397886,0.5965160760027344],[0.5542581837000243,0.5750707148039018,0.5874409535078705,0.5871176975810716,0.5909732201064306,0.5937314156435178,0.5982619176202817,0.5943190954904368,0.5965174134569893,0.5997727149929661,0.5975864214598098,0.5980159813304228,0.5998825617553795,0.5964633446878645,0.5991768462191998,0.5994271643322804,0.5991582612853154,0.6026795462135386,0.5971386552918824,0.6003558183614166,0.5991933917489016,0.5978637876838404,0.5976952048370701,0.6003627082410776,0.6030098212192035,0.5998720212780638,0.5994043072516272,0.6011532963103596,0.5993470105463935,0.6021310422100039],[0.5697976589997349,0.5894429108851862,0.5878310684097994,0.5978611812728744,0.6002970322004636,0.5951964733481098,0.598716218107815,0.5940009459580408,0.599738876879558,0.6037025909851281,0.6016591685602035,0.6026837874115849,0.6041789674629203,0.6041606833846608,0.6007151456691575,0.5994133619964016,0.6022503749333522,0.6016220561938376,0.6049827726435588,0.6033593814810365,0.6017190307795666,0.6031341904969693,0.6014227411595182,0.5997520807305569,0.6021077662267686,0.6016597316273615,0.6054242011893178,0.6046842697948502,0.6022461955857172,0.6036271656886016],[0.5792635074468376,0.583655721271591,0.5952741752903096,0.5938054089999677,0.6024053446251937,0.5952683735646208,0.6021995837459949,0.6033442755348617,0.604278759340202,0.6018185107578505,0.6011935292502366,0.599802744643152,0.601491835756627,0.6011736870417466,0.6071643238856916,0.6037862558735301,0.6046153800451339,0.6014710947584785,0.606913746364467,0.6079782507999646,0.6030897175485975,0.6043764004897496,0.6042874101096718,0.6056110312617087,0.6024534007088367,0.6072803067615293,0.6049478878527251,0.60488747509806,0.6041822629741719,0.6063680130870154],[0.5658332460614947,0.5846811592009014,0.5999692114078083,0.599803828424387,0.6043013119851969,0.6072629899183235,0.6067490818464891,0.6032836765111694,0.6042120520534194,0.6029951928942031,0.6039196274297036,0.607244359678329,0.6091931625780812,0.609126891799786,0.6052022698785913,0.6069909117442329,0.6067314697605034,0.6042045332581185,0.6040626372088271,0.6075982279368707,0.6060511331267034,0.6050572420288189,0.6062389162995562,0.6075246308321183,0.6048482063510677,0.6100103368349045,0.6067560852333589,0.6055744829611133,0.6087851462129349,0.6070520820856775],[0.5581375235635112,0.5945656406890001,0.5949486952364711,0.5970163481489051,0.6003440530351795,0.6041219344059278,0.6031467458725113,0.6002115895036944,0.6041950322372175,0.6032223794415639,0.6077671116458253,0.6115016193310654,0.6074410345401388,0.6057444009782207,0.6047428496674796,0.6062611742835129,0.6071108387569215,0.6076543347314095,0.6065772393803369,0.6078847810956596,0.6084292079178697,0.6066781932204319,0.6047843688827468,0.608857186918382,0.6062628897792288,0.6062744713839199,0.6075379243869885,0.61010898935805,0.6097767546693914,0.6080950809636473],[0.5602167533821716,0.5945809354345878,0.6015739373477922,0.6051913275980552,0.6037688221703281,0.6007435583544852,0.6045186438542919,0.6028402132594541,0.6059714186000813,0.604103829421683,0.6072424621280389,0.6081282918191728,0.6050338820251095,0.6054625351564078,0.6064225838498605,0.608567359858424,0.6080214367920729,0.6087167495965384,0.6083649169173397,0.6093366465508273,0.611061568009313,0.6090228488880753,0.607491793672699,0.6068548572939632,0.6088904787527567,0.6072699587259418,0.6111400274371688,0.6066020306245846,0.6109485121865958,0.608025683221789],[0.5565943427436942,0.6016246655904066,0.5900462988932943,0.6038495599785263,0.6053120725591915,0.6015901723738505,0.6014372468423055,0.6105922054487791,0.6021894581841325,0.6066233139869238,0.6085278586262035,0.605327302129874,0.6126491038268022,0.6096415867298117,0.6121992859387693,0.6124858447348192,0.6102174451382757,0.6071682942950597,0.6067487288911536,0.609329787558006,0.6104681411462722,0.6093461469392174,0.6084593670507114,0.6089848126673079,0.6104321045358283,0.6094053508722077,0.6094079401353495,0.6121112695065924,0.6119278045728882,0.6102478711656509],[0.5817190333172755,0.5955589347374921,0.602680035040378,0.601004860115218,0.6082156581044394,0.6087561376603906,0.6045694565509657,0.603844979543868,0.6095576401208295,0.6100456862830279,0.6095871376585688,0.6104928054900931,0.6121352842550958,0.6110337335982686,0.6060581933122469,0.6114570759319438,0.6069031482523707,0.6118000769148579,0.608058742194902,0.609411159867172,0.6112814521676835,0.6131936022004277,0.6088910575615334,0.6134669359986193,0.6118223889574936,0.6107092596260557,0.6105892574665301,0.6127457769316006,0.6115437064794284,0.6101924084555354],[0.5581036613144958,0.5923588071839994,0.5994258818065126,0.6020140134565765,0.6044558821998163,0.6063354974955683,0.6106301653830594,0.6050715970788565,0.6094896043741437,0.6107434899706696,0.6105652154833704,0.6075555540191152,0.6086320130013624,0.6107112719151656,0.6097072999331126,0.6084412849028364,0.6096186749454698,0.6094782418069418,0.6096077221404365,0.6132491102391235,0.6101741874206214,0.6146255929086466,0.6125702318379165,0.6154951306078589,0.6091878460509875,0.6128352635364044,0.6119535650323634,0.6129810416478019,0.612147067089764,0.615050619366831]],\"type\":\"surface\"}],                        {\"xaxis\":{\"title\":{\"text\":\"n_estimators\"}},\"yaxis\":{\"title\":{\"text\":\"max_features\"}},\"template\":{\"data\":{\"bar\":[{\"error_x\":{\"color\":\"#2a3f5f\"},\"error_y\":{\"color\":\"#2a3f5f\"},\"marker\":{\"line\":{\"color\":\"#E5ECF6\",\"width\":0.5},\"pattern\":{\"fillmode\":\"overlay\",\"size\":10,\"solidity\":0.2}},\"type\":\"bar\"}],\"barpolar\":[{\"marker\":{\"line\":{\"color\":\"#E5ECF6\",\"width\":0.5},\"pattern\":{\"fillmode\":\"overlay\",\"size\":10,\"solidity\":0.2}},\"type\":\"barpolar\"}],\"carpet\":[{\"aaxis\":{\"endlinecolor\":\"#2a3f5f\",\"gridcolor\":\"white\",\"linecolor\":\"white\",\"minorgridcolor\":\"white\",\"startlinecolor\":\"#2a3f5f\"},\"baxis\":{\"endlinecolor\":\"#2a3f5f\",\"gridcolor\":\"white\",\"linecolor\":\"white\",\"minorgridcolor\":\"white\",\"startlinecolor\":\"#2a3f5f\"},\"type\":\"carpet\"}],\"choropleth\":[{\"colorbar\":{\"outlinewidth\":0,\"ticks\":\"\"},\"type\":\"choropleth\"}],\"contour\":[{\"colorbar\":{\"outlinewidth\":0,\"ticks\":\"\"},\"colorscale\":[[0.0,\"#0d0887\"],[0.1111111111111111,\"#46039f\"],[0.2222222222222222,\"#7201a8\"],[0.3333333333333333,\"#9c179e\"],[0.4444444444444444,\"#bd3786\"],[0.5555555555555556,\"#d8576b\"],[0.6666666666666666,\"#ed7953\"],[0.7777777777777778,\"#fb9f3a\"],[0.8888888888888888,\"#fdca26\"],[1.0,\"#f0f921\"]],\"type\":\"contour\"}],\"contourcarpet\":[{\"colorbar\":{\"outlinewidth\":0,\"ticks\":\"\"},\"type\":\"contourcarpet\"}],\"heatmap\":[{\"colorbar\":{\"outlinewidth\":0,\"ticks\":\"\"},\"colorscale\":[[0.0,\"#0d0887\"],[0.1111111111111111,\"#46039f\"],[0.2222222222222222,\"#7201a8\"],[0.3333333333333333,\"#9c179e\"],[0.4444444444444444,\"#bd3786\"],[0.5555555555555556,\"#d8576b\"],[0.6666666666666666,\"#ed7953\"],[0.7777777777777778,\"#fb9f3a\"],[0.8888888888888888,\"#fdca26\"],[1.0,\"#f0f921\"]],\"type\":\"heatmap\"}],\"heatmapgl\":[{\"colorbar\":{\"outlinewidth\":0,\"ticks\":\"\"},\"colorscale\":[[0.0,\"#0d0887\"],[0.1111111111111111,\"#46039f\"],[0.2222222222222222,\"#7201a8\"],[0.3333333333333333,\"#9c179e\"],[0.4444444444444444,\"#bd3786\"],[0.5555555555555556,\"#d8576b\"],[0.6666666666666666,\"#ed7953\"],[0.7777777777777778,\"#fb9f3a\"],[0.8888888888888888,\"#fdca26\"],[1.0,\"#f0f921\"]],\"type\":\"heatmapgl\"}],\"histogram\":[{\"marker\":{\"pattern\":{\"fillmode\":\"overlay\",\"size\":10,\"solidity\":0.2}},\"type\":\"histogram\"}],\"histogram2d\":[{\"colorbar\":{\"outlinewidth\":0,\"ticks\":\"\"},\"colorscale\":[[0.0,\"#0d0887\"],[0.1111111111111111,\"#46039f\"],[0.2222222222222222,\"#7201a8\"],[0.3333333333333333,\"#9c179e\"],[0.4444444444444444,\"#bd3786\"],[0.5555555555555556,\"#d8576b\"],[0.6666666666666666,\"#ed7953\"],[0.7777777777777778,\"#fb9f3a\"],[0.8888888888888888,\"#fdca26\"],[1.0,\"#f0f921\"]],\"type\":\"histogram2d\"}],\"histogram2dcontour\":[{\"colorbar\":{\"outlinewidth\":0,\"ticks\":\"\"},\"colorscale\":[[0.0,\"#0d0887\"],[0.1111111111111111,\"#46039f\"],[0.2222222222222222,\"#7201a8\"],[0.3333333333333333,\"#9c179e\"],[0.4444444444444444,\"#bd3786\"],[0.5555555555555556,\"#d8576b\"],[0.6666666666666666,\"#ed7953\"],[0.7777777777777778,\"#fb9f3a\"],[0.8888888888888888,\"#fdca26\"],[1.0,\"#f0f921\"]],\"type\":\"histogram2dcontour\"}],\"mesh3d\":[{\"colorbar\":{\"outlinewidth\":0,\"ticks\":\"\"},\"type\":\"mesh3d\"}],\"parcoords\":[{\"line\":{\"colorbar\":{\"outlinewidth\":0,\"ticks\":\"\"}},\"type\":\"parcoords\"}],\"pie\":[{\"automargin\":true,\"type\":\"pie\"}],\"scatter\":[{\"marker\":{\"colorbar\":{\"outlinewidth\":0,\"ticks\":\"\"}},\"type\":\"scatter\"}],\"scatter3d\":[{\"line\":{\"colorbar\":{\"outlinewidth\":0,\"ticks\":\"\"}},\"marker\":{\"colorbar\":{\"outlinewidth\":0,\"ticks\":\"\"}},\"type\":\"scatter3d\"}],\"scattercarpet\":[{\"marker\":{\"colorbar\":{\"outlinewidth\":0,\"ticks\":\"\"}},\"type\":\"scattercarpet\"}],\"scattergeo\":[{\"marker\":{\"colorbar\":{\"outlinewidth\":0,\"ticks\":\"\"}},\"type\":\"scattergeo\"}],\"scattergl\":[{\"marker\":{\"colorbar\":{\"outlinewidth\":0,\"ticks\":\"\"}},\"type\":\"scattergl\"}],\"scattermapbox\":[{\"marker\":{\"colorbar\":{\"outlinewidth\":0,\"ticks\":\"\"}},\"type\":\"scattermapbox\"}],\"scatterpolar\":[{\"marker\":{\"colorbar\":{\"outlinewidth\":0,\"ticks\":\"\"}},\"type\":\"scatterpolar\"}],\"scatterpolargl\":[{\"marker\":{\"colorbar\":{\"outlinewidth\":0,\"ticks\":\"\"}},\"type\":\"scatterpolargl\"}],\"scatterternary\":[{\"marker\":{\"colorbar\":{\"outlinewidth\":0,\"ticks\":\"\"}},\"type\":\"scatterternary\"}],\"surface\":[{\"colorbar\":{\"outlinewidth\":0,\"ticks\":\"\"},\"colorscale\":[[0.0,\"#0d0887\"],[0.1111111111111111,\"#46039f\"],[0.2222222222222222,\"#7201a8\"],[0.3333333333333333,\"#9c179e\"],[0.4444444444444444,\"#bd3786\"],[0.5555555555555556,\"#d8576b\"],[0.6666666666666666,\"#ed7953\"],[0.7777777777777778,\"#fb9f3a\"],[0.8888888888888888,\"#fdca26\"],[1.0,\"#f0f921\"]],\"type\":\"surface\"}],\"table\":[{\"cells\":{\"fill\":{\"color\":\"#EBF0F8\"},\"line\":{\"color\":\"white\"}},\"header\":{\"fill\":{\"color\":\"#C8D4E3\"},\"line\":{\"color\":\"white\"}},\"type\":\"table\"}]},\"layout\":{\"annotationdefaults\":{\"arrowcolor\":\"#2a3f5f\",\"arrowhead\":0,\"arrowwidth\":1},\"autotypenumbers\":\"strict\",\"coloraxis\":{\"colorbar\":{\"outlinewidth\":0,\"ticks\":\"\"}},\"colorscale\":{\"diverging\":[[0,\"#8e0152\"],[0.1,\"#c51b7d\"],[0.2,\"#de77ae\"],[0.3,\"#f1b6da\"],[0.4,\"#fde0ef\"],[0.5,\"#f7f7f7\"],[0.6,\"#e6f5d0\"],[0.7,\"#b8e186\"],[0.8,\"#7fbc41\"],[0.9,\"#4d9221\"],[1,\"#276419\"]],\"sequential\":[[0.0,\"#0d0887\"],[0.1111111111111111,\"#46039f\"],[0.2222222222222222,\"#7201a8\"],[0.3333333333333333,\"#9c179e\"],[0.4444444444444444,\"#bd3786\"],[0.5555555555555556,\"#d8576b\"],[0.6666666666666666,\"#ed7953\"],[0.7777777777777778,\"#fb9f3a\"],[0.8888888888888888,\"#fdca26\"],[1.0,\"#f0f921\"]],\"sequentialminus\":[[0.0,\"#0d0887\"],[0.1111111111111111,\"#46039f\"],[0.2222222222222222,\"#7201a8\"],[0.3333333333333333,\"#9c179e\"],[0.4444444444444444,\"#bd3786\"],[0.5555555555555556,\"#d8576b\"],[0.6666666666666666,\"#ed7953\"],[0.7777777777777778,\"#fb9f3a\"],[0.8888888888888888,\"#fdca26\"],[1.0,\"#f0f921\"]]},\"colorway\":[\"#636efa\",\"#EF553B\",\"#00cc96\",\"#ab63fa\",\"#FFA15A\",\"#19d3f3\",\"#FF6692\",\"#B6E880\",\"#FF97FF\",\"#FECB52\"],\"font\":{\"color\":\"#2a3f5f\"},\"geo\":{\"bgcolor\":\"white\",\"lakecolor\":\"white\",\"landcolor\":\"#E5ECF6\",\"showlakes\":true,\"showland\":true,\"subunitcolor\":\"white\"},\"hoverlabel\":{\"align\":\"left\"},\"hovermode\":\"closest\",\"mapbox\":{\"style\":\"light\"},\"paper_bgcolor\":\"white\",\"plot_bgcolor\":\"#E5ECF6\",\"polar\":{\"angularaxis\":{\"gridcolor\":\"white\",\"linecolor\":\"white\",\"ticks\":\"\"},\"bgcolor\":\"#E5ECF6\",\"radialaxis\":{\"gridcolor\":\"white\",\"linecolor\":\"white\",\"ticks\":\"\"}},\"scene\":{\"xaxis\":{\"backgroundcolor\":\"#E5ECF6\",\"gridcolor\":\"white\",\"gridwidth\":2,\"linecolor\":\"white\",\"showbackground\":true,\"ticks\":\"\",\"zerolinecolor\":\"white\"},\"yaxis\":{\"backgroundcolor\":\"#E5ECF6\",\"gridcolor\":\"white\",\"gridwidth\":2,\"linecolor\":\"white\",\"showbackground\":true,\"ticks\":\"\",\"zerolinecolor\":\"white\"},\"zaxis\":{\"backgroundcolor\":\"#E5ECF6\",\"gridcolor\":\"white\",\"gridwidth\":2,\"linecolor\":\"white\",\"showbackground\":true,\"ticks\":\"\",\"zerolinecolor\":\"white\"}},\"shapedefaults\":{\"line\":{\"color\":\"#2a3f5f\"}},\"ternary\":{\"aaxis\":{\"gridcolor\":\"white\",\"linecolor\":\"white\",\"ticks\":\"\"},\"baxis\":{\"gridcolor\":\"white\",\"linecolor\":\"white\",\"ticks\":\"\"},\"bgcolor\":\"#E5ECF6\",\"caxis\":{\"gridcolor\":\"white\",\"linecolor\":\"white\",\"ticks\":\"\"}},\"title\":{\"x\":0.05},\"xaxis\":{\"automargin\":true,\"gridcolor\":\"white\",\"linecolor\":\"white\",\"ticks\":\"\",\"title\":{\"standoff\":15},\"zerolinecolor\":\"white\",\"zerolinewidth\":2},\"yaxis\":{\"automargin\":true,\"gridcolor\":\"white\",\"linecolor\":\"white\",\"ticks\":\"\",\"title\":{\"standoff\":15},\"zerolinecolor\":\"white\",\"zerolinewidth\":2}}},\"margin\":{\"l\":65,\"r\":50,\"b\":65,\"t\":90},\"title\":{\"text\":\"Hyperparameter tuning\"},\"scene\":{\"xaxis\":{\"title\":{\"text\":\"n_estimators\"}},\"yaxis\":{\"title\":{\"text\":\"max_features\"}},\"zaxis\":{\"title\":{\"text\":\"Accuracy\"}}},\"autosize\":false,\"width\":800,\"height\":800},                        {\"responsive\": true}                    ).then(function(){\n",
              "                            \n",
              "var gd = document.getElementById('b9c76906-892a-4826-9bb4-2cd1db4c96b9');\n",
              "var x = new MutationObserver(function (mutations, observer) {{\n",
              "        var display = window.getComputedStyle(gd).display;\n",
              "        if (!display || display === 'none') {{\n",
              "            console.log([gd, 'removed!']);\n",
              "            Plotly.purge(gd);\n",
              "            observer.disconnect();\n",
              "        }}\n",
              "}});\n",
              "\n",
              "// Listen for the removal of the full notebook cells\n",
              "var notebookContainer = gd.closest('#notebook-container');\n",
              "if (notebookContainer) {{\n",
              "    x.observe(notebookContainer, {childList: true});\n",
              "}}\n",
              "\n",
              "// Listen for the clearing of the current output cell\n",
              "var outputEl = gd.closest('.output');\n",
              "if (outputEl) {{\n",
              "    x.observe(outputEl, {childList: true});\n",
              "}}\n",
              "\n",
              "                        })                };                            </script>        </div>\n",
              "</body>\n",
              "</html>"
            ]
          },
          "metadata": {},
          "output_type": "display_data"
        }
      ],
      "source": [
        "import plotly.graph_objects as go\n",
        "\n",
        "\n",
        "fig = go.Figure(data= [go.Surface(z=z, y=y, x=x)], layout=layout )\n",
        "fig.update_layout(title='Hyperparameter tuning',\n",
        "                  scene = dict(\n",
        "                    xaxis_title='n_estimators',\n",
        "                    yaxis_title='max_features',\n",
        "                    zaxis_title='Accuracy'),\n",
        "                  autosize=False,\n",
        "                  width=800, height=800,\n",
        "                  margin=dict(l=65, r=50, b=65, t=90))\n",
        "fig.show()"
      ]
    }
  ],
  "metadata": {
    "colab": {
      "collapsed_sections": [
        "jw7MqTMphSwR",
        "0GvT3PArhSwX",
        "iCeQQn0uhSwb",
        "sGQjCQtfhSwg",
        "E-zGSqXohSwx",
        "0qQCpX097qf_",
        "AjhOlkOVhSxR"
      ],
      "name": "Part-4_PW4.ipynb",
      "provenance": []
    },
    "kernelspec": {
      "display_name": "Python 3",
      "language": "python",
      "name": "python3"
    },
    "language_info": {
      "codemirror_mode": {
        "name": "ipython",
        "version": 3
      },
      "file_extension": ".py",
      "mimetype": "text/x-python",
      "name": "python",
      "nbconvert_exporter": "python",
      "pygments_lexer": "ipython3",
      "version": "3.7.6"
    }
  },
  "nbformat": 4,
  "nbformat_minor": 0
}